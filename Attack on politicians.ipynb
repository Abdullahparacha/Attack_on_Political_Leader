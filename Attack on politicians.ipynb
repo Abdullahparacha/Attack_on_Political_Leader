{
 "cells": [
  {
   "cell_type": "markdown",
   "metadata": {},
   "source": [
    "# <u>EDA</u>:"
   ]
  },
  {
   "cell_type": "markdown",
   "metadata": {},
   "source": [
    "### 1. Loading Packages:"
   ]
  },
  {
   "cell_type": "code",
   "execution_count": 1,
   "metadata": {},
   "outputs": [],
   "source": [
    "import pandas as pd\n",
    "import numpy as np\n",
    "import matplotlib.pyplot as plt\n",
    "import seaborn as sns\n",
    "from datetime import datetime\n",
    "sns.set()\n",
    "%matplotlib inline"
   ]
  },
  {
   "cell_type": "markdown",
   "metadata": {},
   "source": [
    "### 2. Reading Data & Basic Analysis:"
   ]
  },
  {
   "cell_type": "markdown",
   "metadata": {},
   "source": [
    "**Read Attacks on Political Leaders in Pakistan.csv file and store that in variable data**"
   ]
  },
  {
   "cell_type": "code",
   "execution_count": 2,
   "metadata": {},
   "outputs": [],
   "source": [
    "data = pd.read_csv('Attacks_on_Political_Leaders_in_Pakistan.csv', encoding='cp1252')\n"
   ]
  },
  {
   "cell_type": "markdown",
   "metadata": {},
   "source": [
    "**Copy dataframe into df**"
   ]
  },
  {
   "cell_type": "code",
   "execution_count": 3,
   "metadata": {},
   "outputs": [
    {
     "data": {
      "text/html": [
       "<div>\n",
       "<style scoped>\n",
       "    .dataframe tbody tr th:only-of-type {\n",
       "        vertical-align: middle;\n",
       "    }\n",
       "\n",
       "    .dataframe tbody tr th {\n",
       "        vertical-align: top;\n",
       "    }\n",
       "\n",
       "    .dataframe thead th {\n",
       "        text-align: right;\n",
       "    }\n",
       "</style>\n",
       "<table border=\"1\" class=\"dataframe\">\n",
       "  <thead>\n",
       "    <tr style=\"text-align: right;\">\n",
       "      <th></th>\n",
       "      <th>S#</th>\n",
       "      <th>Politician</th>\n",
       "      <th>Day</th>\n",
       "      <th>Date</th>\n",
       "      <th>Day Type</th>\n",
       "      <th>Time</th>\n",
       "      <th>City</th>\n",
       "      <th>Location</th>\n",
       "      <th>Location Category</th>\n",
       "      <th>Province</th>\n",
       "      <th>Latitude</th>\n",
       "      <th>Longititude</th>\n",
       "      <th>Target Category</th>\n",
       "      <th>Space (Open/Closed)</th>\n",
       "      <th>Party</th>\n",
       "      <th>Target Status</th>\n",
       "      <th>Killed</th>\n",
       "      <th>Injured</th>\n",
       "    </tr>\n",
       "  </thead>\n",
       "  <tbody>\n",
       "    <tr>\n",
       "      <th>0</th>\n",
       "      <td>1</td>\n",
       "      <td>Liaqat Ali Khan</td>\n",
       "      <td>Tuesday</td>\n",
       "      <td>16-Oct-51</td>\n",
       "      <td>Working Day</td>\n",
       "      <td>Evening</td>\n",
       "      <td>Rawalpindi</td>\n",
       "      <td>Company Bagh (Company Gardens), Rawalpindi</td>\n",
       "      <td>Park/Ground</td>\n",
       "      <td>Punjab</td>\n",
       "      <td>33.605800</td>\n",
       "      <td>73.043700</td>\n",
       "      <td>Target</td>\n",
       "      <td>Open</td>\n",
       "      <td>Alll India Muslim League</td>\n",
       "      <td>Killed</td>\n",
       "      <td>1</td>\n",
       "      <td>1</td>\n",
       "    </tr>\n",
       "    <tr>\n",
       "      <th>1</th>\n",
       "      <td>2</td>\n",
       "      <td>Khan abdul Jabbar Khan</td>\n",
       "      <td>Friday</td>\n",
       "      <td>9-May-58</td>\n",
       "      <td>Working Day</td>\n",
       "      <td>Morning</td>\n",
       "      <td>Lahore</td>\n",
       "      <td>Sadullah Khan's house at 16 Aikman Road, GOR</td>\n",
       "      <td>Residence</td>\n",
       "      <td>Punjab</td>\n",
       "      <td>31.482635</td>\n",
       "      <td>74.071272</td>\n",
       "      <td>Target</td>\n",
       "      <td>Open</td>\n",
       "      <td>Chief Minister of West Pakistan</td>\n",
       "      <td>Killed</td>\n",
       "      <td>1</td>\n",
       "      <td>0</td>\n",
       "    </tr>\n",
       "    <tr>\n",
       "      <th>2</th>\n",
       "      <td>3</td>\n",
       "      <td>Hayyat Sherpao</td>\n",
       "      <td>Friday</td>\n",
       "      <td>8-Feb-85</td>\n",
       "      <td>Working Day</td>\n",
       "      <td>Evening</td>\n",
       "      <td>Peshawar</td>\n",
       "      <td>Campus of University of Peshawar</td>\n",
       "      <td>University</td>\n",
       "      <td>KPK</td>\n",
       "      <td>33.999533</td>\n",
       "      <td>71.425020</td>\n",
       "      <td>Target</td>\n",
       "      <td>Open</td>\n",
       "      <td>PPPP</td>\n",
       "      <td>Killed</td>\n",
       "      <td>1</td>\n",
       "      <td>0</td>\n",
       "    </tr>\n",
       "    <tr>\n",
       "      <th>3</th>\n",
       "      <td>4</td>\n",
       "      <td>Najeeb Ahmed</td>\n",
       "      <td>Friday</td>\n",
       "      <td>6-Apr-90</td>\n",
       "      <td>Working Day</td>\n",
       "      <td>After Noon</td>\n",
       "      <td>Karachi</td>\n",
       "      <td>North Nazimabad</td>\n",
       "      <td>Residence</td>\n",
       "      <td>Sindh</td>\n",
       "      <td>24.991800</td>\n",
       "      <td>66.991100</td>\n",
       "      <td>Target</td>\n",
       "      <td>Closed</td>\n",
       "      <td>Student wing of PPP</td>\n",
       "      <td>Killed</td>\n",
       "      <td>1</td>\n",
       "      <td>0</td>\n",
       "    </tr>\n",
       "    <tr>\n",
       "      <th>4</th>\n",
       "      <td>5</td>\n",
       "      <td>Azeem Ahmed Tariq</td>\n",
       "      <td>Saturday</td>\n",
       "      <td>1-May-93</td>\n",
       "      <td>Working Day</td>\n",
       "      <td>Morning</td>\n",
       "      <td>Karachi</td>\n",
       "      <td>near his house</td>\n",
       "      <td>Residence</td>\n",
       "      <td>Sindh</td>\n",
       "      <td>24.991800</td>\n",
       "      <td>66.991100</td>\n",
       "      <td>Target</td>\n",
       "      <td>Closed</td>\n",
       "      <td>MQM</td>\n",
       "      <td>Killed</td>\n",
       "      <td>1</td>\n",
       "      <td>0</td>\n",
       "    </tr>\n",
       "    <tr>\n",
       "      <th>5</th>\n",
       "      <td>6</td>\n",
       "      <td>Hakim Muhammad Said</td>\n",
       "      <td>Saturday</td>\n",
       "      <td>17-Oct-98</td>\n",
       "      <td>Working Day</td>\n",
       "      <td>After Noon</td>\n",
       "      <td>Karachi</td>\n",
       "      <td>Details Missing</td>\n",
       "      <td>Details Missing</td>\n",
       "      <td>Sindh</td>\n",
       "      <td>24.991800</td>\n",
       "      <td>66.991100</td>\n",
       "      <td>Target</td>\n",
       "      <td>Open</td>\n",
       "      <td>Independent</td>\n",
       "      <td>Killed</td>\n",
       "      <td>1</td>\n",
       "      <td>0</td>\n",
       "    </tr>\n",
       "    <tr>\n",
       "      <th>6</th>\n",
       "      <td>7</td>\n",
       "      <td>Maulana Azam Tariq</td>\n",
       "      <td>Monday</td>\n",
       "      <td>6-Oct-03</td>\n",
       "      <td>Working Day</td>\n",
       "      <td>Evening</td>\n",
       "      <td>Islamabad</td>\n",
       "      <td>As his car drove into the capital, Islamabad</td>\n",
       "      <td>Road</td>\n",
       "      <td>Capital</td>\n",
       "      <td>33.718000</td>\n",
       "      <td>73.071800</td>\n",
       "      <td>Target</td>\n",
       "      <td>Open</td>\n",
       "      <td>Millat-i-Islamia</td>\n",
       "      <td>Killed</td>\n",
       "      <td>4</td>\n",
       "      <td>0</td>\n",
       "    </tr>\n",
       "    <tr>\n",
       "      <th>7</th>\n",
       "      <td>8</td>\n",
       "      <td>Pervez Musharaf</td>\n",
       "      <td>Monday</td>\n",
       "      <td>15-Dec-03</td>\n",
       "      <td>Working Day</td>\n",
       "      <td>Evening</td>\n",
       "      <td>Rawalpindi</td>\n",
       "      <td>A powerful bomb went off minutes after his hig...</td>\n",
       "      <td>Road</td>\n",
       "      <td>Punjab</td>\n",
       "      <td>33.605800</td>\n",
       "      <td>73.043700</td>\n",
       "      <td>Target</td>\n",
       "      <td>Open</td>\n",
       "      <td>All Pakistan Muslim League</td>\n",
       "      <td>Escaped</td>\n",
       "      <td>0</td>\n",
       "      <td>0</td>\n",
       "    </tr>\n",
       "    <tr>\n",
       "      <th>8</th>\n",
       "      <td>9</td>\n",
       "      <td>Pervez Musharaf</td>\n",
       "      <td>Thursday</td>\n",
       "      <td>25-Dec-03</td>\n",
       "      <td>Working Day</td>\n",
       "      <td>Evening</td>\n",
       "      <td>Rawalpindi</td>\n",
       "      <td>Attack on Musharaf's Rally</td>\n",
       "      <td>Road</td>\n",
       "      <td>Punjab</td>\n",
       "      <td>33.605800</td>\n",
       "      <td>73.043700</td>\n",
       "      <td>Suicide</td>\n",
       "      <td>Open</td>\n",
       "      <td>All Pakistan Muslim League</td>\n",
       "      <td>Escaped</td>\n",
       "      <td>16</td>\n",
       "      <td>4</td>\n",
       "    </tr>\n",
       "    <tr>\n",
       "      <th>9</th>\n",
       "      <td>10</td>\n",
       "      <td>Shaukat Aziz</td>\n",
       "      <td>Friday</td>\n",
       "      <td>30-Jul-04</td>\n",
       "      <td>Working Day</td>\n",
       "      <td>Night</td>\n",
       "      <td>Attock</td>\n",
       "      <td>Jaffar village in fateh jang</td>\n",
       "      <td>Park/Ground</td>\n",
       "      <td>Punjab</td>\n",
       "      <td>33.764500</td>\n",
       "      <td>72.366700</td>\n",
       "      <td>Suicide</td>\n",
       "      <td>Open</td>\n",
       "      <td>PMLQ</td>\n",
       "      <td>Escaped</td>\n",
       "      <td>7</td>\n",
       "      <td>70</td>\n",
       "    </tr>\n",
       "    <tr>\n",
       "      <th>10</th>\n",
       "      <td>11</td>\n",
       "      <td>Zil-e-Huma Usman</td>\n",
       "      <td>Tuesday</td>\n",
       "      <td>20-Feb-07</td>\n",
       "      <td>Working Day</td>\n",
       "      <td>After Noon</td>\n",
       "      <td>Gujranwala</td>\n",
       "      <td>she had gone to address a political rally</td>\n",
       "      <td>Park/Ground</td>\n",
       "      <td>Punjab</td>\n",
       "      <td>32.157962</td>\n",
       "      <td>74.024526</td>\n",
       "      <td>Target</td>\n",
       "      <td>Closed</td>\n",
       "      <td>Ministor</td>\n",
       "      <td>Killed</td>\n",
       "      <td>1</td>\n",
       "      <td>0</td>\n",
       "    </tr>\n",
       "    <tr>\n",
       "      <th>11</th>\n",
       "      <td>12</td>\n",
       "      <td>Aftab Ahmad Khan Sherpao</td>\n",
       "      <td>Saturday</td>\n",
       "      <td>28-Apr-07</td>\n",
       "      <td>Working Day</td>\n",
       "      <td>Evening</td>\n",
       "      <td>Charsadda</td>\n",
       "      <td>Rally Charsadda</td>\n",
       "      <td>Park/Ground</td>\n",
       "      <td>KPK</td>\n",
       "      <td>34.150900</td>\n",
       "      <td>71.735900</td>\n",
       "      <td>Suicide</td>\n",
       "      <td>Open</td>\n",
       "      <td>ANP</td>\n",
       "      <td>Escaped</td>\n",
       "      <td>35</td>\n",
       "      <td>60</td>\n",
       "    </tr>\n",
       "    <tr>\n",
       "      <th>12</th>\n",
       "      <td>13</td>\n",
       "      <td>Political Meeting</td>\n",
       "      <td>Thursday</td>\n",
       "      <td>12-Jul-07</td>\n",
       "      <td>Working Day</td>\n",
       "      <td>Evening</td>\n",
       "      <td>North Waziristan</td>\n",
       "      <td>Political Agent Office in Miranshah</td>\n",
       "      <td>Government</td>\n",
       "      <td>FATA</td>\n",
       "      <td>32.974600</td>\n",
       "      <td>70.145600</td>\n",
       "      <td>Suicide</td>\n",
       "      <td>Closed</td>\n",
       "      <td>Local Political Leader</td>\n",
       "      <td>Killed</td>\n",
       "      <td>4</td>\n",
       "      <td>3</td>\n",
       "    </tr>\n",
       "    <tr>\n",
       "      <th>13</th>\n",
       "      <td>14</td>\n",
       "      <td>Abdul Razzaq Bugti</td>\n",
       "      <td>Friday</td>\n",
       "      <td>27-Jul-07</td>\n",
       "      <td>Working Day</td>\n",
       "      <td>After Noon</td>\n",
       "      <td>Quetta</td>\n",
       "      <td>Zarghon Road 200 metres from Chief Minister’s...</td>\n",
       "      <td>Residence</td>\n",
       "      <td>Balochistan</td>\n",
       "      <td>30.209500</td>\n",
       "      <td>67.018200</td>\n",
       "      <td>Target</td>\n",
       "      <td>Closed</td>\n",
       "      <td>Baloch Student Organizaion</td>\n",
       "      <td>Killed</td>\n",
       "      <td>1</td>\n",
       "      <td>0</td>\n",
       "    </tr>\n",
       "    <tr>\n",
       "      <th>14</th>\n",
       "      <td>15</td>\n",
       "      <td>Benazir Bhutto</td>\n",
       "      <td>Thursday</td>\n",
       "      <td>18-Oct-07</td>\n",
       "      <td>Working Day</td>\n",
       "      <td>Mid Night</td>\n",
       "      <td>Karachi</td>\n",
       "      <td>PPP Rally</td>\n",
       "      <td>Road</td>\n",
       "      <td>Sindh</td>\n",
       "      <td>24.991800</td>\n",
       "      <td>66.991100</td>\n",
       "      <td>Suicide</td>\n",
       "      <td>Open</td>\n",
       "      <td>PPPP</td>\n",
       "      <td>Escaped</td>\n",
       "      <td>145</td>\n",
       "      <td>550</td>\n",
       "    </tr>\n",
       "    <tr>\n",
       "      <th>15</th>\n",
       "      <td>16</td>\n",
       "      <td>Ahsan Iqbal</td>\n",
       "      <td>Friday</td>\n",
       "      <td>9-Nov-07</td>\n",
       "      <td>Holiday</td>\n",
       "      <td>Evening</td>\n",
       "      <td>Peshawar</td>\n",
       "      <td>Political Affairs meeting</td>\n",
       "      <td>Residence</td>\n",
       "      <td>KPK</td>\n",
       "      <td>34.004300</td>\n",
       "      <td>71.544800</td>\n",
       "      <td>Suicide</td>\n",
       "      <td>Closed</td>\n",
       "      <td>PMLN</td>\n",
       "      <td>Escaped</td>\n",
       "      <td>4</td>\n",
       "      <td>5</td>\n",
       "    </tr>\n",
       "    <tr>\n",
       "      <th>16</th>\n",
       "      <td>17</td>\n",
       "      <td>Benazir Bhutto</td>\n",
       "      <td>Thursday</td>\n",
       "      <td>27-Dec-07</td>\n",
       "      <td>Working Day</td>\n",
       "      <td>Evening</td>\n",
       "      <td>Rawalpindi</td>\n",
       "      <td>Liaquat Bagh Park</td>\n",
       "      <td>Park/Ground</td>\n",
       "      <td>Punjab</td>\n",
       "      <td>33.605800</td>\n",
       "      <td>73.043700</td>\n",
       "      <td>Suicide</td>\n",
       "      <td>Open</td>\n",
       "      <td>PPPP</td>\n",
       "      <td>Killed</td>\n",
       "      <td>30</td>\n",
       "      <td>70</td>\n",
       "    </tr>\n",
       "    <tr>\n",
       "      <th>17</th>\n",
       "      <td>18</td>\n",
       "      <td>Miangul Asfandyar Amir Zeb</td>\n",
       "      <td>Friday</td>\n",
       "      <td>28-Dec-07</td>\n",
       "      <td>Working Day</td>\n",
       "      <td>After Noon</td>\n",
       "      <td>Swat</td>\n",
       "      <td>roadside bomb blast targeting his vehicle</td>\n",
       "      <td>Road</td>\n",
       "      <td>KPK</td>\n",
       "      <td>35.234672</td>\n",
       "      <td>71.885355</td>\n",
       "      <td>Target</td>\n",
       "      <td>Open</td>\n",
       "      <td>PMLN</td>\n",
       "      <td>Killed</td>\n",
       "      <td>1</td>\n",
       "      <td>0</td>\n",
       "    </tr>\n",
       "    <tr>\n",
       "      <th>18</th>\n",
       "      <td>19</td>\n",
       "      <td>Khursheed Khan</td>\n",
       "      <td>Saturday</td>\n",
       "      <td>9-Feb-08</td>\n",
       "      <td>Working Day</td>\n",
       "      <td>Evening</td>\n",
       "      <td>Charsadda</td>\n",
       "      <td>Nakai in charsadda</td>\n",
       "      <td>Residence</td>\n",
       "      <td>KPK</td>\n",
       "      <td>34.150900</td>\n",
       "      <td>71.735900</td>\n",
       "      <td>Suicide</td>\n",
       "      <td>Closed</td>\n",
       "      <td>ANP</td>\n",
       "      <td>Escaped</td>\n",
       "      <td>27</td>\n",
       "      <td>51</td>\n",
       "    </tr>\n",
       "    <tr>\n",
       "      <th>19</th>\n",
       "      <td>20</td>\n",
       "      <td>Political Meeting</td>\n",
       "      <td>Monday</td>\n",
       "      <td>11-Feb-08</td>\n",
       "      <td>Working Day</td>\n",
       "      <td>After Noon</td>\n",
       "      <td>North Waziristan</td>\n",
       "      <td>Aidak village in mirali-near miranshah</td>\n",
       "      <td>Religious</td>\n",
       "      <td>FATA</td>\n",
       "      <td>32.974600</td>\n",
       "      <td>70.145600</td>\n",
       "      <td>Suicide</td>\n",
       "      <td>Open</td>\n",
       "      <td>ANP</td>\n",
       "      <td>Killed</td>\n",
       "      <td>10</td>\n",
       "      <td>13</td>\n",
       "    </tr>\n",
       "    <tr>\n",
       "      <th>20</th>\n",
       "      <td>21</td>\n",
       "      <td>Political Meeting</td>\n",
       "      <td>Saturday</td>\n",
       "      <td>16-Feb-08</td>\n",
       "      <td>Working Day</td>\n",
       "      <td>Evening</td>\n",
       "      <td>Kuram Agency</td>\n",
       "      <td>PPP election office in Eidgah market of Parach...</td>\n",
       "      <td>Government</td>\n",
       "      <td>FATA</td>\n",
       "      <td>35.222700</td>\n",
       "      <td>72.425800</td>\n",
       "      <td>Suicide</td>\n",
       "      <td>Closed</td>\n",
       "      <td>PPPP</td>\n",
       "      <td>Killed</td>\n",
       "      <td>47</td>\n",
       "      <td>110</td>\n",
       "    </tr>\n",
       "    <tr>\n",
       "      <th>21</th>\n",
       "      <td>22</td>\n",
       "      <td>Rashid Akbar Nawani</td>\n",
       "      <td>Monday</td>\n",
       "      <td>6-Oct-08</td>\n",
       "      <td>Working Day</td>\n",
       "      <td>Evening</td>\n",
       "      <td>Bhakkar</td>\n",
       "      <td>Bhakkar Rasheed Noranni MNA house</td>\n",
       "      <td>Residence</td>\n",
       "      <td>Punjab</td>\n",
       "      <td>31.621600</td>\n",
       "      <td>71.065000</td>\n",
       "      <td>Suicide</td>\n",
       "      <td>Closed</td>\n",
       "      <td>PMLN</td>\n",
       "      <td>Escaped</td>\n",
       "      <td>26</td>\n",
       "      <td>100</td>\n",
       "    </tr>\n",
       "    <tr>\n",
       "      <th>22</th>\n",
       "      <td>23</td>\n",
       "      <td>Hussain Ali Yousafi</td>\n",
       "      <td>Monday</td>\n",
       "      <td>26-Jan-09</td>\n",
       "      <td>Working Day</td>\n",
       "      <td>After Noon</td>\n",
       "      <td>Quetta</td>\n",
       "      <td>UNKNOWN</td>\n",
       "      <td>UNKNOWN</td>\n",
       "      <td>Balochistan</td>\n",
       "      <td>30.209500</td>\n",
       "      <td>67.018200</td>\n",
       "      <td>Target</td>\n",
       "      <td>Open</td>\n",
       "      <td>Hazara Democratic Party (HDP)</td>\n",
       "      <td>Killed</td>\n",
       "      <td>1</td>\n",
       "      <td>0</td>\n",
       "    </tr>\n",
       "    <tr>\n",
       "      <th>23</th>\n",
       "      <td>24</td>\n",
       "      <td>Political Meeting</td>\n",
       "      <td>Thursday</td>\n",
       "      <td>17-Dec-09</td>\n",
       "      <td>Working Day</td>\n",
       "      <td>Evening</td>\n",
       "      <td>Bannu</td>\n",
       "      <td>Essakhel village house of Local political leader</td>\n",
       "      <td>Residence</td>\n",
       "      <td>KPK</td>\n",
       "      <td>32.986100</td>\n",
       "      <td>70.604200</td>\n",
       "      <td>Suicide</td>\n",
       "      <td>Closed</td>\n",
       "      <td>Local Political Leader</td>\n",
       "      <td>Escaped</td>\n",
       "      <td>0</td>\n",
       "      <td>0</td>\n",
       "    </tr>\n",
       "    <tr>\n",
       "      <th>24</th>\n",
       "      <td>25</td>\n",
       "      <td>Muhammed Khan Baba Jan</td>\n",
       "      <td>Monday</td>\n",
       "      <td>5-Apr-10</td>\n",
       "      <td>Working Day</td>\n",
       "      <td>Noon</td>\n",
       "      <td>Lower Dir</td>\n",
       "      <td>ANP rally in Timergara</td>\n",
       "      <td>Hotel</td>\n",
       "      <td>KPK</td>\n",
       "      <td>34.845300</td>\n",
       "      <td>71.904600</td>\n",
       "      <td>Suicide</td>\n",
       "      <td>Open</td>\n",
       "      <td>ANP</td>\n",
       "      <td>Killed</td>\n",
       "      <td>56</td>\n",
       "      <td>120</td>\n",
       "    </tr>\n",
       "    <tr>\n",
       "      <th>25</th>\n",
       "      <td>26</td>\n",
       "      <td>Malik Swab Khan</td>\n",
       "      <td>Monday</td>\n",
       "      <td>12-Jul-10</td>\n",
       "      <td>Working Day</td>\n",
       "      <td>Evening</td>\n",
       "      <td>Kohat</td>\n",
       "      <td>Outside the guest house of a pro-Government tr...</td>\n",
       "      <td>Government</td>\n",
       "      <td>KPK</td>\n",
       "      <td>33.583300</td>\n",
       "      <td>71.433300</td>\n",
       "      <td>Suicide</td>\n",
       "      <td>Open</td>\n",
       "      <td>Pro-Government tribal elder</td>\n",
       "      <td>Escaped</td>\n",
       "      <td>0</td>\n",
       "      <td>0</td>\n",
       "    </tr>\n",
       "    <tr>\n",
       "      <th>26</th>\n",
       "      <td>27</td>\n",
       "      <td>Habib Jalib Baloch</td>\n",
       "      <td>Wednesday</td>\n",
       "      <td>14-Jul-10</td>\n",
       "      <td>Working Day</td>\n",
       "      <td>After Noon</td>\n",
       "      <td>Quetta</td>\n",
       "      <td>UNKNOWN</td>\n",
       "      <td>UNKNOWN</td>\n",
       "      <td>Balochistan</td>\n",
       "      <td>30.209500</td>\n",
       "      <td>67.018200</td>\n",
       "      <td>Target</td>\n",
       "      <td>Open</td>\n",
       "      <td>Baloch Nationalist</td>\n",
       "      <td>Killed</td>\n",
       "      <td>1</td>\n",
       "      <td>0</td>\n",
       "    </tr>\n",
       "    <tr>\n",
       "      <th>27</th>\n",
       "      <td>28</td>\n",
       "      <td>Asim Ali Kurd</td>\n",
       "      <td>Thursday</td>\n",
       "      <td>9-Sep-10</td>\n",
       "      <td>Working Day</td>\n",
       "      <td>After Noon</td>\n",
       "      <td>Quetta</td>\n",
       "      <td>Raily Housing Society, village of Palaseen\\nNe...</td>\n",
       "      <td>Residence</td>\n",
       "      <td>Balochistan</td>\n",
       "      <td>30.209500</td>\n",
       "      <td>67.018200</td>\n",
       "      <td>Suicide</td>\n",
       "      <td>Open</td>\n",
       "      <td>PPPP</td>\n",
       "      <td>Escaped</td>\n",
       "      <td>10</td>\n",
       "      <td>6</td>\n",
       "    </tr>\n",
       "    <tr>\n",
       "      <th>28</th>\n",
       "      <td>29</td>\n",
       "      <td>Mir Nooruddin Mengal</td>\n",
       "      <td>Wednesday</td>\n",
       "      <td>13-Oct-10</td>\n",
       "      <td>Working Day</td>\n",
       "      <td>After Noon</td>\n",
       "      <td>KALAT</td>\n",
       "      <td>Market</td>\n",
       "      <td>Market</td>\n",
       "      <td>Balochistan</td>\n",
       "      <td>28.775506</td>\n",
       "      <td>65.524641</td>\n",
       "      <td>Target</td>\n",
       "      <td>Open</td>\n",
       "      <td>BNP</td>\n",
       "      <td>Killed</td>\n",
       "      <td>1</td>\n",
       "      <td>0</td>\n",
       "    </tr>\n",
       "    <tr>\n",
       "      <th>29</th>\n",
       "      <td>30</td>\n",
       "      <td>Amjad Ali Khan</td>\n",
       "      <td>Monday</td>\n",
       "      <td>6-Dec-10</td>\n",
       "      <td>Working Day</td>\n",
       "      <td>After Noon</td>\n",
       "      <td>Mohmand Agency</td>\n",
       "      <td>Ghalani area\\nAgent office</td>\n",
       "      <td>Government</td>\n",
       "      <td>Fata</td>\n",
       "      <td>32.974600</td>\n",
       "      <td>70.145600</td>\n",
       "      <td>Suicide</td>\n",
       "      <td>Closed</td>\n",
       "      <td>Local Political Leader</td>\n",
       "      <td>Escaped</td>\n",
       "      <td>50</td>\n",
       "      <td>100</td>\n",
       "    </tr>\n",
       "    <tr>\n",
       "      <th>30</th>\n",
       "      <td>31</td>\n",
       "      <td>Muhammad Aslam Khan Raisani</td>\n",
       "      <td>Tuesday</td>\n",
       "      <td>7-Dec-10</td>\n",
       "      <td>Working Day</td>\n",
       "      <td>Evening</td>\n",
       "      <td>Quetta</td>\n",
       "      <td>Railway level crossing sryab pattak</td>\n",
       "      <td>Transport</td>\n",
       "      <td>Balochistan</td>\n",
       "      <td>30.209500</td>\n",
       "      <td>67.018200</td>\n",
       "      <td>Suicide</td>\n",
       "      <td>Open</td>\n",
       "      <td>PPPP</td>\n",
       "      <td>Escaped</td>\n",
       "      <td>1</td>\n",
       "      <td>12</td>\n",
       "    </tr>\n",
       "    <tr>\n",
       "      <th>31</th>\n",
       "      <td>32</td>\n",
       "      <td>Salman Taseer</td>\n",
       "      <td>Tuesday</td>\n",
       "      <td>4-Jan-11</td>\n",
       "      <td>Working Day</td>\n",
       "      <td>After Noon</td>\n",
       "      <td>Islamabad</td>\n",
       "      <td>Kohsar Market, near his home in Sector F6, Isl...</td>\n",
       "      <td>NaN</td>\n",
       "      <td>Capital</td>\n",
       "      <td>33.718000</td>\n",
       "      <td>73.071800</td>\n",
       "      <td>Target</td>\n",
       "      <td>Open</td>\n",
       "      <td>PPPP</td>\n",
       "      <td>Killed</td>\n",
       "      <td>1</td>\n",
       "      <td>0</td>\n",
       "    </tr>\n",
       "    <tr>\n",
       "      <th>32</th>\n",
       "      <td>33</td>\n",
       "      <td>Shahbaz Bhatti</td>\n",
       "      <td>Wednesday</td>\n",
       "      <td>2-Mar-11</td>\n",
       "      <td>Working Day</td>\n",
       "      <td>After Noon</td>\n",
       "      <td>Islamabad</td>\n",
       "      <td>Sector i-8</td>\n",
       "      <td>Residence</td>\n",
       "      <td>Capital</td>\n",
       "      <td>33.718000</td>\n",
       "      <td>73.071800</td>\n",
       "      <td>Target</td>\n",
       "      <td>Closed</td>\n",
       "      <td>PPPP</td>\n",
       "      <td>Killed</td>\n",
       "      <td>1</td>\n",
       "      <td>0</td>\n",
       "    </tr>\n",
       "    <tr>\n",
       "      <th>33</th>\n",
       "      <td>34</td>\n",
       "      <td>Bashir Ahmed Bilour</td>\n",
       "      <td>Sunday</td>\n",
       "      <td>23-Dec-12</td>\n",
       "      <td>Holiday</td>\n",
       "      <td>After Noon</td>\n",
       "      <td>Peshawar</td>\n",
       "      <td>Qissa Khwani Bazar</td>\n",
       "      <td>Market</td>\n",
       "      <td>KPK</td>\n",
       "      <td>34.004300</td>\n",
       "      <td>71.544800</td>\n",
       "      <td>Suicide</td>\n",
       "      <td>Open</td>\n",
       "      <td>ANP</td>\n",
       "      <td>Killed</td>\n",
       "      <td>1</td>\n",
       "      <td>17</td>\n",
       "    </tr>\n",
       "    <tr>\n",
       "      <th>34</th>\n",
       "      <td>35</td>\n",
       "      <td>Syed Manzar Imam</td>\n",
       "      <td>Thursday</td>\n",
       "      <td>17-Jan-13</td>\n",
       "      <td>Working Day</td>\n",
       "      <td>Evening</td>\n",
       "      <td>Karachi</td>\n",
       "      <td>while traveling</td>\n",
       "      <td>Road</td>\n",
       "      <td>Sindh</td>\n",
       "      <td>24.991800</td>\n",
       "      <td>66.991100</td>\n",
       "      <td>Target</td>\n",
       "      <td>Open</td>\n",
       "      <td>mqm</td>\n",
       "      <td>Killed</td>\n",
       "      <td>1</td>\n",
       "      <td>0</td>\n",
       "    </tr>\n",
       "    <tr>\n",
       "      <th>35</th>\n",
       "      <td>36</td>\n",
       "      <td>Khalid Mumtaz Kundi</td>\n",
       "      <td>Monday</td>\n",
       "      <td>18-Feb-13</td>\n",
       "      <td>Working Day</td>\n",
       "      <td>Evening</td>\n",
       "      <td>Peshawar</td>\n",
       "      <td>Khyber Agency's Political Agent Office in Pesh...</td>\n",
       "      <td>Office Building</td>\n",
       "      <td>KPK</td>\n",
       "      <td>34.004300</td>\n",
       "      <td>71.544800</td>\n",
       "      <td>Suicide</td>\n",
       "      <td>Closed</td>\n",
       "      <td>Assistant Political Agent</td>\n",
       "      <td>Killed</td>\n",
       "      <td>4</td>\n",
       "      <td>5</td>\n",
       "    </tr>\n",
       "    <tr>\n",
       "      <th>36</th>\n",
       "      <td>37</td>\n",
       "      <td>Ghulam Ahmed Bilour</td>\n",
       "      <td>Tuesday</td>\n",
       "      <td>16-Apr-13</td>\n",
       "      <td>Working Day</td>\n",
       "      <td>Evening</td>\n",
       "      <td>Peshawar</td>\n",
       "      <td>The bomb blast took place in Yakatoot in Kotwa...</td>\n",
       "      <td>Market</td>\n",
       "      <td>KPK</td>\n",
       "      <td>34.004300</td>\n",
       "      <td>71.544800</td>\n",
       "      <td>Suicide</td>\n",
       "      <td>Open</td>\n",
       "      <td>ANP</td>\n",
       "      <td>Escaped</td>\n",
       "      <td>18</td>\n",
       "      <td>60</td>\n",
       "    </tr>\n",
       "    <tr>\n",
       "      <th>37</th>\n",
       "      <td>38</td>\n",
       "      <td>Dr Mohammad Ibrahim Jatoi</td>\n",
       "      <td>Wednesday</td>\n",
       "      <td>1-May-13</td>\n",
       "      <td>Holiday</td>\n",
       "      <td>Evening</td>\n",
       "      <td>Shikarpur</td>\n",
       "      <td>Southern Shikarpur district of Sindh province-...</td>\n",
       "      <td>Mobile</td>\n",
       "      <td>Sindh</td>\n",
       "      <td>28.000000</td>\n",
       "      <td>68.666700</td>\n",
       "      <td>Suicide</td>\n",
       "      <td>Open</td>\n",
       "      <td>National People's Party</td>\n",
       "      <td>Escaped</td>\n",
       "      <td>1</td>\n",
       "      <td>2</td>\n",
       "    </tr>\n",
       "    <tr>\n",
       "      <th>38</th>\n",
       "      <td>39</td>\n",
       "      <td>Syed Janan</td>\n",
       "      <td>Tuesday</td>\n",
       "      <td>7-May-13</td>\n",
       "      <td>Working Day</td>\n",
       "      <td>Evening</td>\n",
       "      <td>Hangu</td>\n",
       "      <td>Near Market in the town of Doaba</td>\n",
       "      <td>Market</td>\n",
       "      <td>KPK</td>\n",
       "      <td>33.535100</td>\n",
       "      <td>71.071300</td>\n",
       "      <td>Suicide</td>\n",
       "      <td>Open</td>\n",
       "      <td>JUIF</td>\n",
       "      <td>Escaped</td>\n",
       "      <td>12</td>\n",
       "      <td>40</td>\n",
       "    </tr>\n",
       "    <tr>\n",
       "      <th>39</th>\n",
       "      <td>40</td>\n",
       "      <td>Zahra Shahid Hussain</td>\n",
       "      <td>Saturday</td>\n",
       "      <td>18-May-13</td>\n",
       "      <td>Working Day</td>\n",
       "      <td>After Noon</td>\n",
       "      <td>Karachi</td>\n",
       "      <td>highly contested partial rerun of the general ...</td>\n",
       "      <td>Residence</td>\n",
       "      <td>Sindh</td>\n",
       "      <td>24.991800</td>\n",
       "      <td>66.991100</td>\n",
       "      <td>Target</td>\n",
       "      <td>Closed</td>\n",
       "      <td>PTI</td>\n",
       "      <td>Killed</td>\n",
       "      <td>1</td>\n",
       "      <td>0</td>\n",
       "    </tr>\n",
       "    <tr>\n",
       "      <th>40</th>\n",
       "      <td>41</td>\n",
       "      <td>Farid Khan</td>\n",
       "      <td>Monday</td>\n",
       "      <td>3-Jun-13</td>\n",
       "      <td>Working Day</td>\n",
       "      <td>Evening</td>\n",
       "      <td>Hangu</td>\n",
       "      <td>Traveling in Hangu</td>\n",
       "      <td>Road</td>\n",
       "      <td>KPK</td>\n",
       "      <td>33.535100</td>\n",
       "      <td>71.071300</td>\n",
       "      <td>Target</td>\n",
       "      <td>Open</td>\n",
       "      <td>Independent</td>\n",
       "      <td>Killed</td>\n",
       "      <td>1</td>\n",
       "      <td>2</td>\n",
       "    </tr>\n",
       "    <tr>\n",
       "      <th>41</th>\n",
       "      <td>42</td>\n",
       "      <td>Imran Khan Mohmand</td>\n",
       "      <td>Tuesday</td>\n",
       "      <td>18-Jun-13</td>\n",
       "      <td>Working Day</td>\n",
       "      <td>After Noon</td>\n",
       "      <td>Mardan</td>\n",
       "      <td>Funeral</td>\n",
       "      <td>Funeral</td>\n",
       "      <td>KPK</td>\n",
       "      <td>34.189302</td>\n",
       "      <td>71.968846</td>\n",
       "      <td>Target</td>\n",
       "      <td>Open</td>\n",
       "      <td>PTI</td>\n",
       "      <td>Killed</td>\n",
       "      <td>1</td>\n",
       "      <td>0</td>\n",
       "    </tr>\n",
       "    <tr>\n",
       "      <th>42</th>\n",
       "      <td>43</td>\n",
       "      <td>Israr Ullah Khan Gandapur</td>\n",
       "      <td>Wednesday</td>\n",
       "      <td>16-Oct-13</td>\n",
       "      <td>Working Day</td>\n",
       "      <td>After Noon</td>\n",
       "      <td>D.I. Khan</td>\n",
       "      <td>village in Kulachi, which is located 45 kilome...</td>\n",
       "      <td>NaN</td>\n",
       "      <td>KPK</td>\n",
       "      <td>31.855484</td>\n",
       "      <td>70.823604</td>\n",
       "      <td>Target</td>\n",
       "      <td>Open</td>\n",
       "      <td>PTI</td>\n",
       "      <td>Killed</td>\n",
       "      <td>10</td>\n",
       "      <td>30</td>\n",
       "    </tr>\n",
       "    <tr>\n",
       "      <th>43</th>\n",
       "      <td>44</td>\n",
       "      <td>Col Shuja Khanzada</td>\n",
       "      <td>Sunday</td>\n",
       "      <td>16-Aug-15</td>\n",
       "      <td>Holiday</td>\n",
       "      <td>Evening</td>\n",
       "      <td>ATTOCK</td>\n",
       "      <td>Political office in Attock’s Shadi Khan area</td>\n",
       "      <td>NaN</td>\n",
       "      <td>Punjab</td>\n",
       "      <td>33.768734</td>\n",
       "      <td>72.362147</td>\n",
       "      <td>Suicide</td>\n",
       "      <td>Open</td>\n",
       "      <td>PMLN</td>\n",
       "      <td>Killed</td>\n",
       "      <td>19</td>\n",
       "      <td>25</td>\n",
       "    </tr>\n",
       "    <tr>\n",
       "      <th>44</th>\n",
       "      <td>45</td>\n",
       "      <td>Muhammad Amjad Farooq</td>\n",
       "      <td>Wednesday</td>\n",
       "      <td>19-Oct-15</td>\n",
       "      <td>Working Day</td>\n",
       "      <td>Morning</td>\n",
       "      <td>Taunsa</td>\n",
       "      <td>At Political Party MP's office on College road...</td>\n",
       "      <td>Residence</td>\n",
       "      <td>Punjab</td>\n",
       "      <td>30.712665</td>\n",
       "      <td>70.658161</td>\n",
       "      <td>Suicide</td>\n",
       "      <td>Open</td>\n",
       "      <td>PMLN</td>\n",
       "      <td>Escaped</td>\n",
       "      <td>0</td>\n",
       "      <td>20</td>\n",
       "    </tr>\n",
       "    <tr>\n",
       "      <th>45</th>\n",
       "      <td>46</td>\n",
       "      <td>Soran Singh</td>\n",
       "      <td>Friday</td>\n",
       "      <td>22-Apr-16</td>\n",
       "      <td>Working Day</td>\n",
       "      <td>After Noon</td>\n",
       "      <td>Buner</td>\n",
       "      <td>near his house</td>\n",
       "      <td>Residence</td>\n",
       "      <td>KPK</td>\n",
       "      <td>34.431949</td>\n",
       "      <td>72.205692</td>\n",
       "      <td>Target</td>\n",
       "      <td>Closed</td>\n",
       "      <td>Ministor of Miniroties</td>\n",
       "      <td>Killed</td>\n",
       "      <td>1</td>\n",
       "      <td>0</td>\n",
       "    </tr>\n",
       "    <tr>\n",
       "      <th>46</th>\n",
       "      <td>47</td>\n",
       "      <td>Political Meeting</td>\n",
       "      <td>Wednesday</td>\n",
       "      <td>15-Feb-17</td>\n",
       "      <td>Working Day</td>\n",
       "      <td>Morning</td>\n",
       "      <td>Ghallanai Mohmand Agency</td>\n",
       "      <td>Office of political agent</td>\n",
       "      <td>Road</td>\n",
       "      <td>FATA</td>\n",
       "      <td>34.553808</td>\n",
       "      <td>71.434141</td>\n",
       "      <td>Suicide</td>\n",
       "      <td>Open</td>\n",
       "      <td>Local Political Leader</td>\n",
       "      <td>Escaped</td>\n",
       "      <td>5</td>\n",
       "      <td>8</td>\n",
       "    </tr>\n",
       "    <tr>\n",
       "      <th>47</th>\n",
       "      <td>48</td>\n",
       "      <td>Sherin malik</td>\n",
       "      <td>Saturday</td>\n",
       "      <td>7-Jul-18</td>\n",
       "      <td>Working Day</td>\n",
       "      <td>Evening</td>\n",
       "      <td>Bannu</td>\n",
       "      <td>Attack on sherin malik's convoy</td>\n",
       "      <td>Road</td>\n",
       "      <td>KPK</td>\n",
       "      <td>32.986100</td>\n",
       "      <td>70.604200</td>\n",
       "      <td>Target</td>\n",
       "      <td>Open</td>\n",
       "      <td>MMA</td>\n",
       "      <td>Escaped</td>\n",
       "      <td>0</td>\n",
       "      <td>7</td>\n",
       "    </tr>\n",
       "    <tr>\n",
       "      <th>48</th>\n",
       "      <td>49</td>\n",
       "      <td>Haroon Bilour</td>\n",
       "      <td>Tuesday</td>\n",
       "      <td>10-Jul-18</td>\n",
       "      <td>Working Day</td>\n",
       "      <td>Night</td>\n",
       "      <td>Peshawar</td>\n",
       "      <td>Yakatoot neighbourhood, Peshawar</td>\n",
       "      <td>Residence</td>\n",
       "      <td>KPK</td>\n",
       "      <td>33.999533</td>\n",
       "      <td>71.425020</td>\n",
       "      <td>Suicide</td>\n",
       "      <td>Open</td>\n",
       "      <td>ANP</td>\n",
       "      <td>Killed</td>\n",
       "      <td>20</td>\n",
       "      <td>65</td>\n",
       "    </tr>\n",
       "    <tr>\n",
       "      <th>49</th>\n",
       "      <td>50</td>\n",
       "      <td>Akram Khan Durrani</td>\n",
       "      <td>Friday</td>\n",
       "      <td>13-Jul-18</td>\n",
       "      <td>Working Day</td>\n",
       "      <td>Morning</td>\n",
       "      <td>Bannu</td>\n",
       "      <td>Near Haved Police Station</td>\n",
       "      <td>Road</td>\n",
       "      <td>KPK</td>\n",
       "      <td>32.986100</td>\n",
       "      <td>70.604200</td>\n",
       "      <td>Target</td>\n",
       "      <td>Open</td>\n",
       "      <td>JUIF</td>\n",
       "      <td>Escaped</td>\n",
       "      <td>4</td>\n",
       "      <td>10</td>\n",
       "    </tr>\n",
       "    <tr>\n",
       "      <th>50</th>\n",
       "      <td>51</td>\n",
       "      <td>Siraj Raisani</td>\n",
       "      <td>Friday</td>\n",
       "      <td>13-Jul-18</td>\n",
       "      <td>Working Day</td>\n",
       "      <td>After Noon</td>\n",
       "      <td>Quetta</td>\n",
       "      <td>Attack on BAP's rally</td>\n",
       "      <td>Road</td>\n",
       "      <td>Balochistan</td>\n",
       "      <td>30.209500</td>\n",
       "      <td>67.018200</td>\n",
       "      <td>Suicide</td>\n",
       "      <td>Open</td>\n",
       "      <td>BAP</td>\n",
       "      <td>Killed</td>\n",
       "      <td>149</td>\n",
       "      <td>186</td>\n",
       "    </tr>\n",
       "  </tbody>\n",
       "</table>\n",
       "</div>"
      ],
      "text/plain": [
       "    S#                   Politician        Day       Date     Day Type  \\\n",
       "0    1              Liaqat Ali Khan    Tuesday  16-Oct-51  Working Day   \n",
       "1    2       Khan abdul Jabbar Khan     Friday   9-May-58  Working Day   \n",
       "2    3               Hayyat Sherpao     Friday   8-Feb-85  Working Day   \n",
       "3    4                 Najeeb Ahmed     Friday   6-Apr-90  Working Day   \n",
       "4    5            Azeem Ahmed Tariq   Saturday   1-May-93  Working Day   \n",
       "5    6          Hakim Muhammad Said   Saturday  17-Oct-98  Working Day   \n",
       "6    7           Maulana Azam Tariq     Monday   6-Oct-03  Working Day   \n",
       "7    8              Pervez Musharaf     Monday  15-Dec-03  Working Day   \n",
       "8    9              Pervez Musharaf   Thursday  25-Dec-03  Working Day   \n",
       "9   10                 Shaukat Aziz     Friday  30-Jul-04  Working Day   \n",
       "10  11             Zil-e-Huma Usman    Tuesday  20-Feb-07  Working Day   \n",
       "11  12     Aftab Ahmad Khan Sherpao   Saturday  28-Apr-07  Working Day   \n",
       "12  13            Political Meeting   Thursday  12-Jul-07  Working Day   \n",
       "13  14           Abdul Razzaq Bugti     Friday  27-Jul-07  Working Day   \n",
       "14  15               Benazir Bhutto   Thursday  18-Oct-07  Working Day   \n",
       "15  16                  Ahsan Iqbal     Friday   9-Nov-07      Holiday   \n",
       "16  17               Benazir Bhutto   Thursday  27-Dec-07  Working Day   \n",
       "17  18   Miangul Asfandyar Amir Zeb     Friday  28-Dec-07  Working Day   \n",
       "18  19               Khursheed Khan   Saturday   9-Feb-08  Working Day   \n",
       "19  20            Political Meeting     Monday  11-Feb-08  Working Day   \n",
       "20  21            Political Meeting   Saturday  16-Feb-08  Working Day   \n",
       "21  22          Rashid Akbar Nawani     Monday   6-Oct-08  Working Day   \n",
       "22  23          Hussain Ali Yousafi     Monday  26-Jan-09  Working Day   \n",
       "23  24            Political Meeting   Thursday  17-Dec-09  Working Day   \n",
       "24  25       Muhammed Khan Baba Jan     Monday   5-Apr-10  Working Day   \n",
       "25  26              Malik Swab Khan     Monday  12-Jul-10  Working Day   \n",
       "26  27           Habib Jalib Baloch  Wednesday  14-Jul-10  Working Day   \n",
       "27  28                Asim Ali Kurd   Thursday   9-Sep-10  Working Day   \n",
       "28  29         Mir Nooruddin Mengal  Wednesday  13-Oct-10  Working Day   \n",
       "29  30               Amjad Ali Khan     Monday   6-Dec-10  Working Day   \n",
       "30  31  Muhammad Aslam Khan Raisani    Tuesday   7-Dec-10  Working Day   \n",
       "31  32                Salman Taseer    Tuesday   4-Jan-11  Working Day   \n",
       "32  33               Shahbaz Bhatti  Wednesday   2-Mar-11  Working Day   \n",
       "33  34          Bashir Ahmed Bilour     Sunday  23-Dec-12      Holiday   \n",
       "34  35             Syed Manzar Imam   Thursday  17-Jan-13  Working Day   \n",
       "35  36          Khalid Mumtaz Kundi     Monday  18-Feb-13  Working Day   \n",
       "36  37          Ghulam Ahmed Bilour    Tuesday  16-Apr-13  Working Day   \n",
       "37  38   Dr Mohammad Ibrahim Jatoi   Wednesday   1-May-13      Holiday   \n",
       "38  39                   Syed Janan    Tuesday   7-May-13  Working Day   \n",
       "39  40         Zahra Shahid Hussain   Saturday  18-May-13  Working Day   \n",
       "40  41                   Farid Khan     Monday   3-Jun-13  Working Day   \n",
       "41  42           Imran Khan Mohmand    Tuesday  18-Jun-13  Working Day   \n",
       "42  43    Israr Ullah Khan Gandapur  Wednesday  16-Oct-13  Working Day   \n",
       "43  44          Col Shuja Khanzada      Sunday  16-Aug-15      Holiday   \n",
       "44  45        Muhammad Amjad Farooq  Wednesday  19-Oct-15  Working Day   \n",
       "45  46                  Soran Singh     Friday  22-Apr-16  Working Day   \n",
       "46  47            Political Meeting  Wednesday  15-Feb-17  Working Day   \n",
       "47  48                 Sherin malik   Saturday   7-Jul-18  Working Day   \n",
       "48  49                Haroon Bilour    Tuesday  10-Jul-18  Working Day   \n",
       "49  50           Akram Khan Durrani     Friday  13-Jul-18  Working Day   \n",
       "50  51                Siraj Raisani     Friday  13-Jul-18  Working Day   \n",
       "\n",
       "          Time                      City  \\\n",
       "0      Evening                Rawalpindi   \n",
       "1      Morning                    Lahore   \n",
       "2      Evening                  Peshawar   \n",
       "3   After Noon                   Karachi   \n",
       "4      Morning                   Karachi   \n",
       "5   After Noon                   Karachi   \n",
       "6      Evening                 Islamabad   \n",
       "7      Evening                Rawalpindi   \n",
       "8      Evening                Rawalpindi   \n",
       "9        Night                    Attock   \n",
       "10  After Noon                Gujranwala   \n",
       "11     Evening                 Charsadda   \n",
       "12     Evening          North Waziristan   \n",
       "13  After Noon                    Quetta   \n",
       "14   Mid Night                   Karachi   \n",
       "15     Evening                  Peshawar   \n",
       "16     Evening                Rawalpindi   \n",
       "17  After Noon                      Swat   \n",
       "18     Evening                 Charsadda   \n",
       "19  After Noon          North Waziristan   \n",
       "20     Evening              Kuram Agency   \n",
       "21     Evening                   Bhakkar   \n",
       "22  After Noon                    Quetta   \n",
       "23     Evening                     Bannu   \n",
       "24        Noon                 Lower Dir   \n",
       "25     Evening                     Kohat   \n",
       "26  After Noon                    Quetta   \n",
       "27  After Noon                    Quetta   \n",
       "28  After Noon                     KALAT   \n",
       "29  After Noon            Mohmand Agency   \n",
       "30     Evening                    Quetta   \n",
       "31  After Noon                 Islamabad   \n",
       "32  After Noon                 Islamabad   \n",
       "33  After Noon                  Peshawar   \n",
       "34     Evening                   Karachi   \n",
       "35     Evening                  Peshawar   \n",
       "36     Evening                  Peshawar   \n",
       "37     Evening                 Shikarpur   \n",
       "38     Evening                     Hangu   \n",
       "39  After Noon                   Karachi   \n",
       "40     Evening                     Hangu   \n",
       "41  After Noon                    Mardan   \n",
       "42  After Noon                 D.I. Khan   \n",
       "43     Evening                    ATTOCK   \n",
       "44     Morning                    Taunsa   \n",
       "45  After Noon                     Buner   \n",
       "46     Morning  Ghallanai Mohmand Agency   \n",
       "47     Evening                     Bannu   \n",
       "48       Night                  Peshawar   \n",
       "49     Morning                     Bannu   \n",
       "50  After Noon                    Quetta   \n",
       "\n",
       "                                             Location Location Category  \\\n",
       "0          Company Bagh (Company Gardens), Rawalpindi       Park/Ground   \n",
       "1        Sadullah Khan's house at 16 Aikman Road, GOR         Residence   \n",
       "2                    Campus of University of Peshawar        University   \n",
       "3                                     North Nazimabad         Residence   \n",
       "4                                      near his house         Residence   \n",
       "5                                     Details Missing   Details Missing   \n",
       "6        As his car drove into the capital, Islamabad              Road   \n",
       "7   A powerful bomb went off minutes after his hig...              Road   \n",
       "8                          Attack on Musharaf's Rally              Road   \n",
       "9                        Jaffar village in fateh jang       Park/Ground   \n",
       "10          she had gone to address a political rally       Park/Ground   \n",
       "11                                   Rally Charsadda        Park/Ground   \n",
       "12                Political Agent Office in Miranshah        Government   \n",
       "13   Zarghon Road 200 metres from Chief Minister’s...         Residence   \n",
       "14                                          PPP Rally              Road   \n",
       "15                          Political Affairs meeting         Residence   \n",
       "16                                  Liaquat Bagh Park       Park/Ground   \n",
       "17          roadside bomb blast targeting his vehicle              Road   \n",
       "18                                 Nakai in charsadda         Residence   \n",
       "19             Aidak village in mirali-near miranshah         Religious   \n",
       "20  PPP election office in Eidgah market of Parach...        Government   \n",
       "21                  Bhakkar Rasheed Noranni MNA house         Residence   \n",
       "22                                            UNKNOWN           UNKNOWN   \n",
       "23   Essakhel village house of Local political leader         Residence   \n",
       "24                            ANP rally in Timergara              Hotel   \n",
       "25  Outside the guest house of a pro-Government tr...        Government   \n",
       "26                                            UNKNOWN           UNKNOWN   \n",
       "27  Raily Housing Society, village of Palaseen\\nNe...         Residence   \n",
       "28                                             Market            Market   \n",
       "29                        Ghalani area\\nAgent office         Government   \n",
       "30                Railway level crossing sryab pattak         Transport   \n",
       "31  Kohsar Market, near his home in Sector F6, Isl...               NaN   \n",
       "32                                         Sector i-8         Residence   \n",
       "33                                 Qissa Khwani Bazar            Market   \n",
       "34                                    while traveling              Road   \n",
       "35  Khyber Agency's Political Agent Office in Pesh...   Office Building   \n",
       "36  The bomb blast took place in Yakatoot in Kotwa...            Market   \n",
       "37  Southern Shikarpur district of Sindh province-...            Mobile   \n",
       "38                   Near Market in the town of Doaba            Market   \n",
       "39  highly contested partial rerun of the general ...         Residence   \n",
       "40                                 Traveling in Hangu              Road   \n",
       "41                                            Funeral           Funeral   \n",
       "42  village in Kulachi, which is located 45 kilome...               NaN   \n",
       "43       Political office in Attock’s Shadi Khan area               NaN   \n",
       "44  At Political Party MP's office on College road...         Residence   \n",
       "45                                     near his house         Residence   \n",
       "46                          Office of political agent              Road   \n",
       "47                    Attack on sherin malik's convoy              Road   \n",
       "48                   Yakatoot neighbourhood, Peshawar         Residence   \n",
       "49                          Near Haved Police Station              Road   \n",
       "50                              Attack on BAP's rally              Road   \n",
       "\n",
       "       Province   Latitude  Longititude Target Category Space (Open/Closed)  \\\n",
       "0        Punjab  33.605800    73.043700          Target                Open   \n",
       "1        Punjab  31.482635    74.071272          Target                Open   \n",
       "2           KPK  33.999533    71.425020          Target                Open   \n",
       "3         Sindh  24.991800    66.991100          Target              Closed   \n",
       "4         Sindh  24.991800    66.991100          Target              Closed   \n",
       "5         Sindh  24.991800    66.991100          Target                Open   \n",
       "6       Capital  33.718000    73.071800          Target                Open   \n",
       "7        Punjab  33.605800    73.043700          Target                Open   \n",
       "8        Punjab  33.605800    73.043700         Suicide                Open   \n",
       "9        Punjab  33.764500    72.366700         Suicide                Open   \n",
       "10       Punjab  32.157962    74.024526          Target              Closed   \n",
       "11          KPK  34.150900    71.735900         Suicide                Open   \n",
       "12         FATA  32.974600    70.145600         Suicide              Closed   \n",
       "13  Balochistan  30.209500    67.018200          Target              Closed   \n",
       "14        Sindh  24.991800    66.991100         Suicide                Open   \n",
       "15          KPK  34.004300    71.544800         Suicide              Closed   \n",
       "16       Punjab  33.605800    73.043700         Suicide                Open   \n",
       "17          KPK  35.234672    71.885355          Target                Open   \n",
       "18          KPK  34.150900    71.735900         Suicide              Closed   \n",
       "19         FATA  32.974600    70.145600         Suicide                Open   \n",
       "20         FATA  35.222700    72.425800         Suicide              Closed   \n",
       "21       Punjab  31.621600    71.065000         Suicide              Closed   \n",
       "22  Balochistan  30.209500    67.018200          Target                Open   \n",
       "23          KPK  32.986100    70.604200         Suicide              Closed   \n",
       "24          KPK  34.845300    71.904600         Suicide                Open   \n",
       "25          KPK  33.583300    71.433300         Suicide                Open   \n",
       "26  Balochistan  30.209500    67.018200          Target                Open   \n",
       "27  Balochistan  30.209500    67.018200         Suicide                Open   \n",
       "28  Balochistan  28.775506    65.524641          Target                Open   \n",
       "29         Fata  32.974600    70.145600         Suicide              Closed   \n",
       "30  Balochistan  30.209500    67.018200         Suicide                Open   \n",
       "31      Capital  33.718000    73.071800          Target                Open   \n",
       "32      Capital  33.718000    73.071800          Target              Closed   \n",
       "33          KPK  34.004300    71.544800         Suicide                Open   \n",
       "34        Sindh  24.991800    66.991100          Target                Open   \n",
       "35          KPK  34.004300    71.544800         Suicide              Closed   \n",
       "36          KPK  34.004300    71.544800         Suicide                Open   \n",
       "37        Sindh  28.000000    68.666700         Suicide                Open   \n",
       "38          KPK  33.535100    71.071300         Suicide                Open   \n",
       "39        Sindh  24.991800    66.991100          Target              Closed   \n",
       "40          KPK  33.535100    71.071300          Target                Open   \n",
       "41          KPK  34.189302    71.968846          Target                Open   \n",
       "42          KPK  31.855484    70.823604          Target                Open   \n",
       "43       Punjab  33.768734    72.362147         Suicide                Open   \n",
       "44       Punjab  30.712665    70.658161         Suicide                Open   \n",
       "45          KPK  34.431949    72.205692          Target              Closed   \n",
       "46         FATA  34.553808    71.434141         Suicide                Open   \n",
       "47          KPK  32.986100    70.604200          Target                Open   \n",
       "48          KPK  33.999533    71.425020         Suicide                Open   \n",
       "49          KPK  32.986100    70.604200          Target                Open   \n",
       "50  Balochistan  30.209500    67.018200         Suicide                Open   \n",
       "\n",
       "                              Party Target Status  Killed  Injured  \n",
       "0          Alll India Muslim League        Killed       1        1  \n",
       "1   Chief Minister of West Pakistan        Killed       1        0  \n",
       "2                              PPPP        Killed       1        0  \n",
       "3               Student wing of PPP        Killed       1        0  \n",
       "4                               MQM        Killed       1        0  \n",
       "5                       Independent        Killed       1        0  \n",
       "6                  Millat-i-Islamia        Killed       4        0  \n",
       "7        All Pakistan Muslim League       Escaped       0        0  \n",
       "8        All Pakistan Muslim League       Escaped      16        4  \n",
       "9                              PMLQ       Escaped       7       70  \n",
       "10                         Ministor        Killed       1        0  \n",
       "11                              ANP       Escaped      35       60  \n",
       "12           Local Political Leader        Killed       4        3  \n",
       "13       Baloch Student Organizaion        Killed       1        0  \n",
       "14                             PPPP       Escaped     145      550  \n",
       "15                             PMLN       Escaped       4        5  \n",
       "16                             PPPP        Killed      30       70  \n",
       "17                             PMLN        Killed       1        0  \n",
       "18                              ANP       Escaped      27       51  \n",
       "19                              ANP        Killed      10       13  \n",
       "20                             PPPP        Killed      47      110  \n",
       "21                             PMLN       Escaped      26      100  \n",
       "22    Hazara Democratic Party (HDP)        Killed       1        0  \n",
       "23           Local Political Leader       Escaped       0        0  \n",
       "24                              ANP        Killed      56      120  \n",
       "25      Pro-Government tribal elder       Escaped       0        0  \n",
       "26               Baloch Nationalist        Killed       1        0  \n",
       "27                             PPPP       Escaped      10        6  \n",
       "28                              BNP        Killed       1        0  \n",
       "29           Local Political Leader       Escaped      50      100  \n",
       "30                             PPPP       Escaped       1       12  \n",
       "31                             PPPP        Killed       1        0  \n",
       "32                             PPPP        Killed       1        0  \n",
       "33                              ANP        Killed       1       17  \n",
       "34                              mqm        Killed       1        0  \n",
       "35        Assistant Political Agent        Killed       4        5  \n",
       "36                              ANP       Escaped      18       60  \n",
       "37          National People's Party       Escaped       1        2  \n",
       "38                             JUIF       Escaped      12       40  \n",
       "39                              PTI        Killed       1        0  \n",
       "40                      Independent        Killed       1        2  \n",
       "41                              PTI        Killed       1        0  \n",
       "42                              PTI        Killed      10       30  \n",
       "43                             PMLN        Killed      19       25  \n",
       "44                             PMLN       Escaped       0       20  \n",
       "45           Ministor of Miniroties        Killed       1        0  \n",
       "46           Local Political Leader       Escaped       5        8  \n",
       "47                              MMA       Escaped       0        7  \n",
       "48                              ANP        Killed      20       65  \n",
       "49                             JUIF       Escaped       4       10  \n",
       "50                              BAP        Killed     149      186  "
      ]
     },
     "execution_count": 3,
     "metadata": {},
     "output_type": "execute_result"
    }
   ],
   "source": [
    "df = data.copy()\n",
    "df"
   ]
  },
  {
   "cell_type": "markdown",
   "metadata": {},
   "source": [
    "**Find Shape of dataframe**"
   ]
  },
  {
   "cell_type": "code",
   "execution_count": 4,
   "metadata": {},
   "outputs": [
    {
     "data": {
      "text/plain": [
       "(51, 18)"
      ]
     },
     "execution_count": 4,
     "metadata": {},
     "output_type": "execute_result"
    }
   ],
   "source": [
    "#Add Your Code Here\n",
    "df.shape"
   ]
  },
  {
   "cell_type": "markdown",
   "metadata": {},
   "source": [
    "**Find Column of dataframe**"
   ]
  },
  {
   "cell_type": "code",
   "execution_count": 5,
   "metadata": {},
   "outputs": [
    {
     "data": {
      "text/plain": [
       "Index(['S#', 'Politician', 'Day', 'Date', 'Day Type', 'Time', 'City',\n",
       "       'Location', 'Location Category', 'Province', 'Latitude', 'Longititude',\n",
       "       'Target Category', 'Space (Open/Closed)', 'Party', 'Target Status',\n",
       "       'Killed', 'Injured'],\n",
       "      dtype='object')"
      ]
     },
     "execution_count": 5,
     "metadata": {},
     "output_type": "execute_result"
    }
   ],
   "source": [
    "#Add Your Code Here\n",
    "df.columns"
   ]
  },
  {
   "cell_type": "markdown",
   "metadata": {},
   "source": [
    "**Display first 7 rows of dataframe**"
   ]
  },
  {
   "cell_type": "code",
   "execution_count": 6,
   "metadata": {},
   "outputs": [
    {
     "data": {
      "text/html": [
       "<div>\n",
       "<style scoped>\n",
       "    .dataframe tbody tr th:only-of-type {\n",
       "        vertical-align: middle;\n",
       "    }\n",
       "\n",
       "    .dataframe tbody tr th {\n",
       "        vertical-align: top;\n",
       "    }\n",
       "\n",
       "    .dataframe thead th {\n",
       "        text-align: right;\n",
       "    }\n",
       "</style>\n",
       "<table border=\"1\" class=\"dataframe\">\n",
       "  <thead>\n",
       "    <tr style=\"text-align: right;\">\n",
       "      <th></th>\n",
       "      <th>S#</th>\n",
       "      <th>Politician</th>\n",
       "      <th>Day</th>\n",
       "      <th>Date</th>\n",
       "      <th>Day Type</th>\n",
       "      <th>Time</th>\n",
       "      <th>City</th>\n",
       "      <th>Location</th>\n",
       "      <th>Location Category</th>\n",
       "      <th>Province</th>\n",
       "      <th>Latitude</th>\n",
       "      <th>Longititude</th>\n",
       "      <th>Target Category</th>\n",
       "      <th>Space (Open/Closed)</th>\n",
       "      <th>Party</th>\n",
       "      <th>Target Status</th>\n",
       "      <th>Killed</th>\n",
       "      <th>Injured</th>\n",
       "    </tr>\n",
       "  </thead>\n",
       "  <tbody>\n",
       "    <tr>\n",
       "      <th>0</th>\n",
       "      <td>1</td>\n",
       "      <td>Liaqat Ali Khan</td>\n",
       "      <td>Tuesday</td>\n",
       "      <td>16-Oct-51</td>\n",
       "      <td>Working Day</td>\n",
       "      <td>Evening</td>\n",
       "      <td>Rawalpindi</td>\n",
       "      <td>Company Bagh (Company Gardens), Rawalpindi</td>\n",
       "      <td>Park/Ground</td>\n",
       "      <td>Punjab</td>\n",
       "      <td>33.605800</td>\n",
       "      <td>73.043700</td>\n",
       "      <td>Target</td>\n",
       "      <td>Open</td>\n",
       "      <td>Alll India Muslim League</td>\n",
       "      <td>Killed</td>\n",
       "      <td>1</td>\n",
       "      <td>1</td>\n",
       "    </tr>\n",
       "    <tr>\n",
       "      <th>1</th>\n",
       "      <td>2</td>\n",
       "      <td>Khan abdul Jabbar Khan</td>\n",
       "      <td>Friday</td>\n",
       "      <td>9-May-58</td>\n",
       "      <td>Working Day</td>\n",
       "      <td>Morning</td>\n",
       "      <td>Lahore</td>\n",
       "      <td>Sadullah Khan's house at 16 Aikman Road, GOR</td>\n",
       "      <td>Residence</td>\n",
       "      <td>Punjab</td>\n",
       "      <td>31.482635</td>\n",
       "      <td>74.071272</td>\n",
       "      <td>Target</td>\n",
       "      <td>Open</td>\n",
       "      <td>Chief Minister of West Pakistan</td>\n",
       "      <td>Killed</td>\n",
       "      <td>1</td>\n",
       "      <td>0</td>\n",
       "    </tr>\n",
       "    <tr>\n",
       "      <th>2</th>\n",
       "      <td>3</td>\n",
       "      <td>Hayyat Sherpao</td>\n",
       "      <td>Friday</td>\n",
       "      <td>8-Feb-85</td>\n",
       "      <td>Working Day</td>\n",
       "      <td>Evening</td>\n",
       "      <td>Peshawar</td>\n",
       "      <td>Campus of University of Peshawar</td>\n",
       "      <td>University</td>\n",
       "      <td>KPK</td>\n",
       "      <td>33.999533</td>\n",
       "      <td>71.425020</td>\n",
       "      <td>Target</td>\n",
       "      <td>Open</td>\n",
       "      <td>PPPP</td>\n",
       "      <td>Killed</td>\n",
       "      <td>1</td>\n",
       "      <td>0</td>\n",
       "    </tr>\n",
       "    <tr>\n",
       "      <th>3</th>\n",
       "      <td>4</td>\n",
       "      <td>Najeeb Ahmed</td>\n",
       "      <td>Friday</td>\n",
       "      <td>6-Apr-90</td>\n",
       "      <td>Working Day</td>\n",
       "      <td>After Noon</td>\n",
       "      <td>Karachi</td>\n",
       "      <td>North Nazimabad</td>\n",
       "      <td>Residence</td>\n",
       "      <td>Sindh</td>\n",
       "      <td>24.991800</td>\n",
       "      <td>66.991100</td>\n",
       "      <td>Target</td>\n",
       "      <td>Closed</td>\n",
       "      <td>Student wing of PPP</td>\n",
       "      <td>Killed</td>\n",
       "      <td>1</td>\n",
       "      <td>0</td>\n",
       "    </tr>\n",
       "    <tr>\n",
       "      <th>4</th>\n",
       "      <td>5</td>\n",
       "      <td>Azeem Ahmed Tariq</td>\n",
       "      <td>Saturday</td>\n",
       "      <td>1-May-93</td>\n",
       "      <td>Working Day</td>\n",
       "      <td>Morning</td>\n",
       "      <td>Karachi</td>\n",
       "      <td>near his house</td>\n",
       "      <td>Residence</td>\n",
       "      <td>Sindh</td>\n",
       "      <td>24.991800</td>\n",
       "      <td>66.991100</td>\n",
       "      <td>Target</td>\n",
       "      <td>Closed</td>\n",
       "      <td>MQM</td>\n",
       "      <td>Killed</td>\n",
       "      <td>1</td>\n",
       "      <td>0</td>\n",
       "    </tr>\n",
       "    <tr>\n",
       "      <th>5</th>\n",
       "      <td>6</td>\n",
       "      <td>Hakim Muhammad Said</td>\n",
       "      <td>Saturday</td>\n",
       "      <td>17-Oct-98</td>\n",
       "      <td>Working Day</td>\n",
       "      <td>After Noon</td>\n",
       "      <td>Karachi</td>\n",
       "      <td>Details Missing</td>\n",
       "      <td>Details Missing</td>\n",
       "      <td>Sindh</td>\n",
       "      <td>24.991800</td>\n",
       "      <td>66.991100</td>\n",
       "      <td>Target</td>\n",
       "      <td>Open</td>\n",
       "      <td>Independent</td>\n",
       "      <td>Killed</td>\n",
       "      <td>1</td>\n",
       "      <td>0</td>\n",
       "    </tr>\n",
       "    <tr>\n",
       "      <th>6</th>\n",
       "      <td>7</td>\n",
       "      <td>Maulana Azam Tariq</td>\n",
       "      <td>Monday</td>\n",
       "      <td>6-Oct-03</td>\n",
       "      <td>Working Day</td>\n",
       "      <td>Evening</td>\n",
       "      <td>Islamabad</td>\n",
       "      <td>As his car drove into the capital, Islamabad</td>\n",
       "      <td>Road</td>\n",
       "      <td>Capital</td>\n",
       "      <td>33.718000</td>\n",
       "      <td>73.071800</td>\n",
       "      <td>Target</td>\n",
       "      <td>Open</td>\n",
       "      <td>Millat-i-Islamia</td>\n",
       "      <td>Killed</td>\n",
       "      <td>4</td>\n",
       "      <td>0</td>\n",
       "    </tr>\n",
       "  </tbody>\n",
       "</table>\n",
       "</div>"
      ],
      "text/plain": [
       "   S#              Politician       Day       Date     Day Type        Time  \\\n",
       "0   1         Liaqat Ali Khan   Tuesday  16-Oct-51  Working Day     Evening   \n",
       "1   2  Khan abdul Jabbar Khan    Friday   9-May-58  Working Day     Morning   \n",
       "2   3          Hayyat Sherpao    Friday   8-Feb-85  Working Day     Evening   \n",
       "3   4            Najeeb Ahmed    Friday   6-Apr-90  Working Day  After Noon   \n",
       "4   5       Azeem Ahmed Tariq  Saturday   1-May-93  Working Day     Morning   \n",
       "5   6     Hakim Muhammad Said  Saturday  17-Oct-98  Working Day  After Noon   \n",
       "6   7      Maulana Azam Tariq    Monday   6-Oct-03  Working Day     Evening   \n",
       "\n",
       "         City                                       Location  \\\n",
       "0  Rawalpindi     Company Bagh (Company Gardens), Rawalpindi   \n",
       "1      Lahore   Sadullah Khan's house at 16 Aikman Road, GOR   \n",
       "2    Peshawar               Campus of University of Peshawar   \n",
       "3     Karachi                                North Nazimabad   \n",
       "4     Karachi                                 near his house   \n",
       "5     Karachi                                Details Missing   \n",
       "6   Islamabad   As his car drove into the capital, Islamabad   \n",
       "\n",
       "  Location Category Province   Latitude  Longititude Target Category  \\\n",
       "0       Park/Ground   Punjab  33.605800    73.043700          Target   \n",
       "1         Residence   Punjab  31.482635    74.071272          Target   \n",
       "2        University      KPK  33.999533    71.425020          Target   \n",
       "3         Residence    Sindh  24.991800    66.991100          Target   \n",
       "4         Residence    Sindh  24.991800    66.991100          Target   \n",
       "5   Details Missing    Sindh  24.991800    66.991100          Target   \n",
       "6              Road  Capital  33.718000    73.071800          Target   \n",
       "\n",
       "  Space (Open/Closed)                            Party Target Status  Killed  \\\n",
       "0                Open         Alll India Muslim League        Killed       1   \n",
       "1                Open  Chief Minister of West Pakistan        Killed       1   \n",
       "2                Open                             PPPP        Killed       1   \n",
       "3              Closed              Student wing of PPP        Killed       1   \n",
       "4              Closed                              MQM        Killed       1   \n",
       "5                Open                      Independent        Killed       1   \n",
       "6                Open                 Millat-i-Islamia        Killed       4   \n",
       "\n",
       "   Injured  \n",
       "0        1  \n",
       "1        0  \n",
       "2        0  \n",
       "3        0  \n",
       "4        0  \n",
       "5        0  \n",
       "6        0  "
      ]
     },
     "execution_count": 6,
     "metadata": {},
     "output_type": "execute_result"
    }
   ],
   "source": [
    "#Add Your Code Here\n",
    "df.head(7)"
   ]
  },
  {
   "cell_type": "markdown",
   "metadata": {},
   "source": [
    "**Display the type of columns**"
   ]
  },
  {
   "cell_type": "code",
   "execution_count": 7,
   "metadata": {},
   "outputs": [
    {
     "data": {
      "text/plain": [
       "S#                       int64\n",
       "Politician              object\n",
       "Day                     object\n",
       "Date                    object\n",
       "Day Type                object\n",
       "Time                    object\n",
       "City                    object\n",
       "Location                object\n",
       "Location Category       object\n",
       "Province                object\n",
       "Latitude               float64\n",
       "Longititude            float64\n",
       "Target Category         object\n",
       "Space (Open/Closed)     object\n",
       "Party                   object\n",
       "Target Status           object\n",
       "Killed                   int64\n",
       "Injured                  int64\n",
       "dtype: object"
      ]
     },
     "execution_count": 7,
     "metadata": {},
     "output_type": "execute_result"
    }
   ],
   "source": [
    "#Add Your Code Here\n",
    "df.dtypes"
   ]
  },
  {
   "cell_type": "markdown",
   "metadata": {},
   "source": [
    "**Show Summary Stats of the dataframe including objects also**"
   ]
  },
  {
   "cell_type": "code",
   "execution_count": 8,
   "metadata": {},
   "outputs": [
    {
     "data": {
      "text/html": [
       "<div>\n",
       "<style scoped>\n",
       "    .dataframe tbody tr th:only-of-type {\n",
       "        vertical-align: middle;\n",
       "    }\n",
       "\n",
       "    .dataframe tbody tr th {\n",
       "        vertical-align: top;\n",
       "    }\n",
       "\n",
       "    .dataframe thead th {\n",
       "        text-align: right;\n",
       "    }\n",
       "</style>\n",
       "<table border=\"1\" class=\"dataframe\">\n",
       "  <thead>\n",
       "    <tr style=\"text-align: right;\">\n",
       "      <th></th>\n",
       "      <th>S#</th>\n",
       "      <th>Politician</th>\n",
       "      <th>Day</th>\n",
       "      <th>Date</th>\n",
       "      <th>Day Type</th>\n",
       "      <th>Time</th>\n",
       "      <th>City</th>\n",
       "      <th>Location</th>\n",
       "      <th>Location Category</th>\n",
       "      <th>Province</th>\n",
       "      <th>Latitude</th>\n",
       "      <th>Longititude</th>\n",
       "      <th>Target Category</th>\n",
       "      <th>Space (Open/Closed)</th>\n",
       "      <th>Party</th>\n",
       "      <th>Target Status</th>\n",
       "      <th>Killed</th>\n",
       "      <th>Injured</th>\n",
       "    </tr>\n",
       "  </thead>\n",
       "  <tbody>\n",
       "    <tr>\n",
       "      <th>count</th>\n",
       "      <td>51.000000</td>\n",
       "      <td>51</td>\n",
       "      <td>51</td>\n",
       "      <td>51</td>\n",
       "      <td>51</td>\n",
       "      <td>51</td>\n",
       "      <td>51</td>\n",
       "      <td>51</td>\n",
       "      <td>48</td>\n",
       "      <td>51</td>\n",
       "      <td>51.000000</td>\n",
       "      <td>51.000000</td>\n",
       "      <td>51</td>\n",
       "      <td>51</td>\n",
       "      <td>51</td>\n",
       "      <td>51</td>\n",
       "      <td>51.000000</td>\n",
       "      <td>51.000000</td>\n",
       "    </tr>\n",
       "    <tr>\n",
       "      <th>unique</th>\n",
       "      <td>NaN</td>\n",
       "      <td>45</td>\n",
       "      <td>7</td>\n",
       "      <td>50</td>\n",
       "      <td>2</td>\n",
       "      <td>6</td>\n",
       "      <td>26</td>\n",
       "      <td>49</td>\n",
       "      <td>14</td>\n",
       "      <td>7</td>\n",
       "      <td>NaN</td>\n",
       "      <td>NaN</td>\n",
       "      <td>2</td>\n",
       "      <td>2</td>\n",
       "      <td>26</td>\n",
       "      <td>2</td>\n",
       "      <td>NaN</td>\n",
       "      <td>NaN</td>\n",
       "    </tr>\n",
       "    <tr>\n",
       "      <th>top</th>\n",
       "      <td>NaN</td>\n",
       "      <td>Political Meeting</td>\n",
       "      <td>Monday</td>\n",
       "      <td>13-Jul-18</td>\n",
       "      <td>Working Day</td>\n",
       "      <td>Evening</td>\n",
       "      <td>Peshawar</td>\n",
       "      <td>UNKNOWN</td>\n",
       "      <td>Residence</td>\n",
       "      <td>KPK</td>\n",
       "      <td>NaN</td>\n",
       "      <td>NaN</td>\n",
       "      <td>Suicide</td>\n",
       "      <td>Open</td>\n",
       "      <td>PPPP</td>\n",
       "      <td>Killed</td>\n",
       "      <td>NaN</td>\n",
       "      <td>NaN</td>\n",
       "    </tr>\n",
       "    <tr>\n",
       "      <th>freq</th>\n",
       "      <td>NaN</td>\n",
       "      <td>5</td>\n",
       "      <td>10</td>\n",
       "      <td>2</td>\n",
       "      <td>47</td>\n",
       "      <td>23</td>\n",
       "      <td>6</td>\n",
       "      <td>2</td>\n",
       "      <td>14</td>\n",
       "      <td>19</td>\n",
       "      <td>NaN</td>\n",
       "      <td>NaN</td>\n",
       "      <td>27</td>\n",
       "      <td>36</td>\n",
       "      <td>8</td>\n",
       "      <td>31</td>\n",
       "      <td>NaN</td>\n",
       "      <td>NaN</td>\n",
       "    </tr>\n",
       "    <tr>\n",
       "      <th>mean</th>\n",
       "      <td>26.000000</td>\n",
       "      <td>NaN</td>\n",
       "      <td>NaN</td>\n",
       "      <td>NaN</td>\n",
       "      <td>NaN</td>\n",
       "      <td>NaN</td>\n",
       "      <td>NaN</td>\n",
       "      <td>NaN</td>\n",
       "      <td>NaN</td>\n",
       "      <td>NaN</td>\n",
       "      <td>31.926578</td>\n",
       "      <td>70.493324</td>\n",
       "      <td>NaN</td>\n",
       "      <td>NaN</td>\n",
       "      <td>NaN</td>\n",
       "      <td>NaN</td>\n",
       "      <td>14.392157</td>\n",
       "      <td>34.352941</td>\n",
       "    </tr>\n",
       "    <tr>\n",
       "      <th>std</th>\n",
       "      <td>14.866069</td>\n",
       "      <td>NaN</td>\n",
       "      <td>NaN</td>\n",
       "      <td>NaN</td>\n",
       "      <td>NaN</td>\n",
       "      <td>NaN</td>\n",
       "      <td>NaN</td>\n",
       "      <td>NaN</td>\n",
       "      <td>NaN</td>\n",
       "      <td>NaN</td>\n",
       "      <td>3.033316</td>\n",
       "      <td>2.356406</td>\n",
       "      <td>NaN</td>\n",
       "      <td>NaN</td>\n",
       "      <td>NaN</td>\n",
       "      <td>NaN</td>\n",
       "      <td>30.330894</td>\n",
       "      <td>83.868426</td>\n",
       "    </tr>\n",
       "    <tr>\n",
       "      <th>min</th>\n",
       "      <td>1.000000</td>\n",
       "      <td>NaN</td>\n",
       "      <td>NaN</td>\n",
       "      <td>NaN</td>\n",
       "      <td>NaN</td>\n",
       "      <td>NaN</td>\n",
       "      <td>NaN</td>\n",
       "      <td>NaN</td>\n",
       "      <td>NaN</td>\n",
       "      <td>NaN</td>\n",
       "      <td>24.991800</td>\n",
       "      <td>65.524641</td>\n",
       "      <td>NaN</td>\n",
       "      <td>NaN</td>\n",
       "      <td>NaN</td>\n",
       "      <td>NaN</td>\n",
       "      <td>0.000000</td>\n",
       "      <td>0.000000</td>\n",
       "    </tr>\n",
       "    <tr>\n",
       "      <th>25%</th>\n",
       "      <td>13.500000</td>\n",
       "      <td>NaN</td>\n",
       "      <td>NaN</td>\n",
       "      <td>NaN</td>\n",
       "      <td>NaN</td>\n",
       "      <td>NaN</td>\n",
       "      <td>NaN</td>\n",
       "      <td>NaN</td>\n",
       "      <td>NaN</td>\n",
       "      <td>NaN</td>\n",
       "      <td>30.209500</td>\n",
       "      <td>67.842450</td>\n",
       "      <td>NaN</td>\n",
       "      <td>NaN</td>\n",
       "      <td>NaN</td>\n",
       "      <td>NaN</td>\n",
       "      <td>1.000000</td>\n",
       "      <td>0.000000</td>\n",
       "    </tr>\n",
       "    <tr>\n",
       "      <th>50%</th>\n",
       "      <td>26.000000</td>\n",
       "      <td>NaN</td>\n",
       "      <td>NaN</td>\n",
       "      <td>NaN</td>\n",
       "      <td>NaN</td>\n",
       "      <td>NaN</td>\n",
       "      <td>NaN</td>\n",
       "      <td>NaN</td>\n",
       "      <td>NaN</td>\n",
       "      <td>NaN</td>\n",
       "      <td>33.535100</td>\n",
       "      <td>71.425020</td>\n",
       "      <td>NaN</td>\n",
       "      <td>NaN</td>\n",
       "      <td>NaN</td>\n",
       "      <td>NaN</td>\n",
       "      <td>1.000000</td>\n",
       "      <td>4.000000</td>\n",
       "    </tr>\n",
       "    <tr>\n",
       "      <th>75%</th>\n",
       "      <td>38.500000</td>\n",
       "      <td>NaN</td>\n",
       "      <td>NaN</td>\n",
       "      <td>NaN</td>\n",
       "      <td>NaN</td>\n",
       "      <td>NaN</td>\n",
       "      <td>NaN</td>\n",
       "      <td>NaN</td>\n",
       "      <td>NaN</td>\n",
       "      <td>NaN</td>\n",
       "      <td>33.999533</td>\n",
       "      <td>72.087269</td>\n",
       "      <td>NaN</td>\n",
       "      <td>NaN</td>\n",
       "      <td>NaN</td>\n",
       "      <td>NaN</td>\n",
       "      <td>14.000000</td>\n",
       "      <td>35.000000</td>\n",
       "    </tr>\n",
       "    <tr>\n",
       "      <th>max</th>\n",
       "      <td>51.000000</td>\n",
       "      <td>NaN</td>\n",
       "      <td>NaN</td>\n",
       "      <td>NaN</td>\n",
       "      <td>NaN</td>\n",
       "      <td>NaN</td>\n",
       "      <td>NaN</td>\n",
       "      <td>NaN</td>\n",
       "      <td>NaN</td>\n",
       "      <td>NaN</td>\n",
       "      <td>35.234672</td>\n",
       "      <td>74.071272</td>\n",
       "      <td>NaN</td>\n",
       "      <td>NaN</td>\n",
       "      <td>NaN</td>\n",
       "      <td>NaN</td>\n",
       "      <td>149.000000</td>\n",
       "      <td>550.000000</td>\n",
       "    </tr>\n",
       "  </tbody>\n",
       "</table>\n",
       "</div>"
      ],
      "text/plain": [
       "               S#         Politician     Day       Date     Day Type     Time  \\\n",
       "count   51.000000                 51      51         51           51       51   \n",
       "unique        NaN                 45       7         50            2        6   \n",
       "top           NaN  Political Meeting  Monday  13-Jul-18  Working Day  Evening   \n",
       "freq          NaN                  5      10          2           47       23   \n",
       "mean    26.000000                NaN     NaN        NaN          NaN      NaN   \n",
       "std     14.866069                NaN     NaN        NaN          NaN      NaN   \n",
       "min      1.000000                NaN     NaN        NaN          NaN      NaN   \n",
       "25%     13.500000                NaN     NaN        NaN          NaN      NaN   \n",
       "50%     26.000000                NaN     NaN        NaN          NaN      NaN   \n",
       "75%     38.500000                NaN     NaN        NaN          NaN      NaN   \n",
       "max     51.000000                NaN     NaN        NaN          NaN      NaN   \n",
       "\n",
       "            City Location Location Category Province   Latitude  Longititude  \\\n",
       "count         51       51                48       51  51.000000    51.000000   \n",
       "unique        26       49                14        7        NaN          NaN   \n",
       "top     Peshawar  UNKNOWN         Residence      KPK        NaN          NaN   \n",
       "freq           6        2                14       19        NaN          NaN   \n",
       "mean         NaN      NaN               NaN      NaN  31.926578    70.493324   \n",
       "std          NaN      NaN               NaN      NaN   3.033316     2.356406   \n",
       "min          NaN      NaN               NaN      NaN  24.991800    65.524641   \n",
       "25%          NaN      NaN               NaN      NaN  30.209500    67.842450   \n",
       "50%          NaN      NaN               NaN      NaN  33.535100    71.425020   \n",
       "75%          NaN      NaN               NaN      NaN  33.999533    72.087269   \n",
       "max          NaN      NaN               NaN      NaN  35.234672    74.071272   \n",
       "\n",
       "       Target Category Space (Open/Closed) Party Target Status      Killed  \\\n",
       "count               51                  51    51            51   51.000000   \n",
       "unique               2                   2    26             2         NaN   \n",
       "top            Suicide                Open  PPPP        Killed         NaN   \n",
       "freq                27                  36     8            31         NaN   \n",
       "mean               NaN                 NaN   NaN           NaN   14.392157   \n",
       "std                NaN                 NaN   NaN           NaN   30.330894   \n",
       "min                NaN                 NaN   NaN           NaN    0.000000   \n",
       "25%                NaN                 NaN   NaN           NaN    1.000000   \n",
       "50%                NaN                 NaN   NaN           NaN    1.000000   \n",
       "75%                NaN                 NaN   NaN           NaN   14.000000   \n",
       "max                NaN                 NaN   NaN           NaN  149.000000   \n",
       "\n",
       "           Injured  \n",
       "count    51.000000  \n",
       "unique         NaN  \n",
       "top            NaN  \n",
       "freq           NaN  \n",
       "mean     34.352941  \n",
       "std      83.868426  \n",
       "min       0.000000  \n",
       "25%       0.000000  \n",
       "50%       4.000000  \n",
       "75%      35.000000  \n",
       "max     550.000000  "
      ]
     },
     "execution_count": 8,
     "metadata": {},
     "output_type": "execute_result"
    }
   ],
   "source": [
    "#numerical variables.\n",
    "df.describe(include='all')"
   ]
  },
  {
   "cell_type": "code",
   "execution_count": 9,
   "metadata": {},
   "outputs": [
    {
     "data": {
      "text/html": [
       "<div>\n",
       "<style scoped>\n",
       "    .dataframe tbody tr th:only-of-type {\n",
       "        vertical-align: middle;\n",
       "    }\n",
       "\n",
       "    .dataframe tbody tr th {\n",
       "        vertical-align: top;\n",
       "    }\n",
       "\n",
       "    .dataframe thead th {\n",
       "        text-align: right;\n",
       "    }\n",
       "</style>\n",
       "<table border=\"1\" class=\"dataframe\">\n",
       "  <thead>\n",
       "    <tr style=\"text-align: right;\">\n",
       "      <th></th>\n",
       "      <th>Politician</th>\n",
       "      <th>Day</th>\n",
       "      <th>Date</th>\n",
       "      <th>Day Type</th>\n",
       "      <th>Time</th>\n",
       "      <th>City</th>\n",
       "      <th>Location</th>\n",
       "      <th>Location Category</th>\n",
       "      <th>Province</th>\n",
       "      <th>Target Category</th>\n",
       "      <th>Space (Open/Closed)</th>\n",
       "      <th>Party</th>\n",
       "      <th>Target Status</th>\n",
       "    </tr>\n",
       "  </thead>\n",
       "  <tbody>\n",
       "    <tr>\n",
       "      <th>count</th>\n",
       "      <td>51</td>\n",
       "      <td>51</td>\n",
       "      <td>51</td>\n",
       "      <td>51</td>\n",
       "      <td>51</td>\n",
       "      <td>51</td>\n",
       "      <td>51</td>\n",
       "      <td>48</td>\n",
       "      <td>51</td>\n",
       "      <td>51</td>\n",
       "      <td>51</td>\n",
       "      <td>51</td>\n",
       "      <td>51</td>\n",
       "    </tr>\n",
       "    <tr>\n",
       "      <th>unique</th>\n",
       "      <td>45</td>\n",
       "      <td>7</td>\n",
       "      <td>50</td>\n",
       "      <td>2</td>\n",
       "      <td>6</td>\n",
       "      <td>26</td>\n",
       "      <td>49</td>\n",
       "      <td>14</td>\n",
       "      <td>7</td>\n",
       "      <td>2</td>\n",
       "      <td>2</td>\n",
       "      <td>26</td>\n",
       "      <td>2</td>\n",
       "    </tr>\n",
       "    <tr>\n",
       "      <th>top</th>\n",
       "      <td>Political Meeting</td>\n",
       "      <td>Monday</td>\n",
       "      <td>13-Jul-18</td>\n",
       "      <td>Working Day</td>\n",
       "      <td>Evening</td>\n",
       "      <td>Peshawar</td>\n",
       "      <td>UNKNOWN</td>\n",
       "      <td>Residence</td>\n",
       "      <td>KPK</td>\n",
       "      <td>Suicide</td>\n",
       "      <td>Open</td>\n",
       "      <td>PPPP</td>\n",
       "      <td>Killed</td>\n",
       "    </tr>\n",
       "    <tr>\n",
       "      <th>freq</th>\n",
       "      <td>5</td>\n",
       "      <td>10</td>\n",
       "      <td>2</td>\n",
       "      <td>47</td>\n",
       "      <td>23</td>\n",
       "      <td>6</td>\n",
       "      <td>2</td>\n",
       "      <td>14</td>\n",
       "      <td>19</td>\n",
       "      <td>27</td>\n",
       "      <td>36</td>\n",
       "      <td>8</td>\n",
       "      <td>31</td>\n",
       "    </tr>\n",
       "  </tbody>\n",
       "</table>\n",
       "</div>"
      ],
      "text/plain": [
       "               Politician     Day       Date     Day Type     Time      City  \\\n",
       "count                  51      51         51           51       51        51   \n",
       "unique                 45       7         50            2        6        26   \n",
       "top     Political Meeting  Monday  13-Jul-18  Working Day  Evening  Peshawar   \n",
       "freq                    5      10          2           47       23         6   \n",
       "\n",
       "       Location Location Category Province Target Category  \\\n",
       "count        51                48       51              51   \n",
       "unique       49                14        7               2   \n",
       "top     UNKNOWN         Residence      KPK         Suicide   \n",
       "freq          2                14       19              27   \n",
       "\n",
       "       Space (Open/Closed) Party Target Status  \n",
       "count                   51    51            51  \n",
       "unique                   2    26             2  \n",
       "top                   Open  PPPP        Killed  \n",
       "freq                    36     8            31  "
      ]
     },
     "execution_count": 9,
     "metadata": {},
     "output_type": "execute_result"
    }
   ],
   "source": [
    "#object variables.\n",
    "df.describe(include=['O'])"
   ]
  },
  {
   "cell_type": "markdown",
   "metadata": {},
   "source": [
    "**Display the sum of all the null values in each columns**"
   ]
  },
  {
   "cell_type": "code",
   "execution_count": 10,
   "metadata": {},
   "outputs": [
    {
     "data": {
      "text/plain": [
       "S#                     0\n",
       "Politician             0\n",
       "Day                    0\n",
       "Date                   0\n",
       "Day Type               0\n",
       "Time                   0\n",
       "City                   0\n",
       "Location               0\n",
       "Location Category      3\n",
       "Province               0\n",
       "Latitude               0\n",
       "Longititude            0\n",
       "Target Category        0\n",
       "Space (Open/Closed)    0\n",
       "Party                  0\n",
       "Target Status          0\n",
       "Killed                 0\n",
       "Injured                0\n",
       "dtype: int64"
      ]
     },
     "execution_count": 10,
     "metadata": {},
     "output_type": "execute_result"
    }
   ],
   "source": [
    "#Add Your Code Here\n",
    "df.isnull().sum()"
   ]
  },
  {
   "cell_type": "markdown",
   "metadata": {},
   "source": [
    "**Find Unique value in the column province**"
   ]
  },
  {
   "cell_type": "code",
   "execution_count": 11,
   "metadata": {},
   "outputs": [
    {
     "data": {
      "text/plain": [
       "array(['Punjab', 'KPK', 'Sindh', 'Capital', 'FATA', 'Balochistan', 'Fata'],\n",
       "      dtype=object)"
      ]
     },
     "execution_count": 11,
     "metadata": {},
     "output_type": "execute_result"
    }
   ],
   "source": [
    "#Add Your Code Here\n",
    "df.Province.unique()"
   ]
  },
  {
   "cell_type": "markdown",
   "metadata": {},
   "source": [
    "**Correct the duplicates from above unique province result**"
   ]
  },
  {
   "cell_type": "code",
   "execution_count": 12,
   "metadata": {},
   "outputs": [],
   "source": [
    "#Add Your Code Here\n",
    "df['Province'] = df['Province'].str.replace('Fata', 'FATA') "
   ]
  },
  {
   "cell_type": "code",
   "execution_count": 13,
   "metadata": {},
   "outputs": [
    {
     "data": {
      "text/plain": [
       "array(['Punjab', 'KPK', 'Sindh', 'Capital', 'FATA', 'Balochistan'],\n",
       "      dtype=object)"
      ]
     },
     "execution_count": 13,
     "metadata": {},
     "output_type": "execute_result"
    }
   ],
   "source": [
    "df.Province.unique()"
   ]
  },
  {
   "cell_type": "markdown",
   "metadata": {},
   "source": [
    "# 3. Exploration:"
   ]
  },
  {
   "cell_type": "markdown",
   "metadata": {},
   "source": [
    "## Categorical Feature Visualization."
   ]
  },
  {
   "cell_type": "markdown",
   "metadata": {},
   "source": [
    "**Most Vulnerable Province to Attack:**\n",
    "<br>**For this show the count plot against each Province and tell us which province has been attacked most**"
   ]
  },
  {
   "cell_type": "code",
   "execution_count": 14,
   "metadata": {},
   "outputs": [
    {
     "data": {
      "image/png": "[encoded data removed]",
      "text/plain": [
       "<Figure size 432x288 with 1 Axes>"
      ]
     },
     "metadata": {
      "needs_background": "light"
     },
     "output_type": "display_data"
    }
   ],
   "source": [
    "#Add Your Code Here\n",
    "sns.countplot(x='Province', hue='Province', data=df);"
   ]
  },
  {
   "cell_type": "markdown",
   "metadata": {},
   "source": []
  },
  {
   "cell_type": "markdown",
   "metadata": {},
   "source": [
    "**Most Vulnerable City to Attack:**\n",
    "<br>**For this show the count plot against each City and tell us which City has been attacked most**"
   ]
  },
  {
   "cell_type": "code",
   "execution_count": 15,
   "metadata": {},
   "outputs": [
    {
     "data": {
      "image/png": "[encoded data removed]",
      "text/plain": [
       "<Figure size 1584x504 with 1 Axes>"
      ]
     },
     "metadata": {
      "needs_background": "light"
     },
     "output_type": "display_data"
    }
   ],
   "source": [
    "#Add Your Code Here\n",
    "plt.figure(figsize=(22,7))\n",
    "plt.xticks(rotation=60)\n",
    "sns.countplot(x='City', data=df);"
   ]
  },
  {
   "cell_type": "markdown",
   "metadata": {},
   "source": [
    " "
   ]
  },
  {
   "cell_type": "markdown",
   "metadata": {},
   "source": [
    "**Seperate each province data into different variable. and plot the number of attacks in each City using subplot, it must have 6 subgraphs**  <br>\n",
    "*Sample Code \n",
    "<br>*\n",
    "```\n",
    "fig, ax=plt.subplots(3,2,sharey=True, figsize=(15,8))\n",
    "sns.countplot(x='City', data=df_kpk, ax=ax[0,0])\n",
    "ax[0,0].set_title('KPK')\n",
    "```"
   ]
  },
  {
   "cell_type": "code",
   "execution_count": 16,
   "metadata": {},
   "outputs": [],
   "source": [
    "#seperate here\n",
    "df_kpk = df[df['Province'] ==  'KPK']\n",
    "df_pun = df[df['Province'] == 'Punjab']\n",
    "df_bal = df[df['Province'] == 'Balochistan']\n",
    "df_sin = df[df['Province'] == 'Sindh']\n",
    "df_fata = df[df['Province'] == 'FATA']\n",
    "df_cap = df[df['Province'] == 'Capital']"
   ]
  },
  {
   "cell_type": "code",
   "execution_count": 17,
   "metadata": {},
   "outputs": [
    {
     "data": {
      "image/png": "[encoded data removed]",
      "text/plain": [
       "<Figure size 1080x1224 with 6 Axes>"
      ]
     },
     "metadata": {
      "needs_background": "light"
     },
     "output_type": "display_data"
    }
   ],
   "source": [
    "#Plot graph here\n",
    "fig, ax=plt.subplots(3,2,sharey=True, figsize=(15,17))\n",
    "sns.countplot(x='City', data=df_kpk, ax=ax[0,0]);\n",
    "ax[0,0].set_title('KPK')\n",
    "sns.countplot(x='City', data=df_pun, ax=ax[0,1]);\n",
    "ax[0,1].set_title('Punjab')\n",
    "sns.countplot(x='City', data=df_bal, ax=ax[1,0]);\n",
    "ax[1,0].set_title('Balochistan')\n",
    "sns.countplot(x='City', data=df_sin, ax=ax[1,1]);\n",
    "ax[1,1].set_title('Sindh')\n",
    "sns.countplot(x='City', hue='City', data=df_fata, ax=ax[2,0]);\n",
    "ax[2,0].set_title('FATA')\n",
    "sns.countplot(x='City', data=df_cap, ax=ax[2,1]);\n",
    "ax[2,1].set_title('Capital');\n"
   ]
  },
  {
   "cell_type": "markdown",
   "metadata": {},
   "source": [
    "**Find the Most Dangerous Location **"
   ]
  },
  {
   "cell_type": "code",
   "execution_count": 18,
   "metadata": {},
   "outputs": [
    {
     "data": {
      "text/plain": [
       "Residence          14\n",
       "Road               11\n",
       "Park/Ground         5\n",
       "Market              4\n",
       "Government          4\n",
       "UNKNOWN             2\n",
       "Office Building     1\n",
       "Religious           1\n",
       "Transport           1\n",
       "Hotel               1\n",
       "University          1\n",
       "Mobile              1\n",
       "Details Missing     1\n",
       "Funeral             1\n",
       "Name: Location Category, dtype: int64"
      ]
     },
     "execution_count": 18,
     "metadata": {},
     "output_type": "execute_result"
    }
   ],
   "source": [
    "#Add Your Code Here\n",
    "df['Location Category'].value_counts()"
   ]
  },
  {
   "cell_type": "markdown",
   "metadata": {},
   "source": [
    "Add comments here and tell where they are attacked most"
   ]
  },
  {
   "cell_type": "markdown",
   "metadata": {},
   "source": [
    "**Find out how many types of attacks are in the datasets **"
   ]
  },
  {
   "cell_type": "code",
   "execution_count": 19,
   "metadata": {},
   "outputs": [
    {
     "data": {
      "text/plain": [
       "Suicide    27\n",
       "Target     24\n",
       "Name: Target Category, dtype: int64"
      ]
     },
     "execution_count": 19,
     "metadata": {},
     "output_type": "execute_result"
    }
   ],
   "source": [
    "#Add Your Code Here\n",
    "df['Target Category'].value_counts()"
   ]
  },
  {
   "cell_type": "markdown",
   "metadata": {},
   "source": [
    "**Display how many attacks are successful**"
   ]
  },
  {
   "cell_type": "code",
   "execution_count": 20,
   "metadata": {},
   "outputs": [
    {
     "data": {
      "text/plain": [
       "Killed     31\n",
       "Escaped    20\n",
       "Name: Target Status, dtype: int64"
      ]
     },
     "execution_count": 20,
     "metadata": {},
     "output_type": "execute_result"
    }
   ],
   "source": [
    "#Add Your Code Here\n",
    "df['Target Status'].value_counts()"
   ]
  },
  {
   "cell_type": "markdown",
   "metadata": {},
   "source": [
    "**Display countplot which show target status against each province**"
   ]
  },
  {
   "cell_type": "code",
   "execution_count": 21,
   "metadata": {},
   "outputs": [
    {
     "data": {
      "image/png": "[encoded data removed]",
      "text/plain": [
       "<Figure size 432x288 with 1 Axes>"
      ]
     },
     "metadata": {
      "needs_background": "light"
     },
     "output_type": "display_data"
    }
   ],
   "source": [
    "#Add Your Code Here\n",
    "sns.countplot(x='Province', hue='Target Status', data=df);"
   ]
  },
  {
   "cell_type": "raw",
   "metadata": {},
   "source": [
    "**Display countplot which display Target Category against Target Status**"
   ]
  },
  {
   "cell_type": "code",
   "execution_count": 22,
   "metadata": {},
   "outputs": [
    {
     "data": {
      "image/png": "[encoded data removed]",
      "text/plain": [
       "<Figure size 432x288 with 1 Axes>"
      ]
     },
     "metadata": {
      "needs_background": "light"
     },
     "output_type": "display_data"
    }
   ],
   "source": [
    "#Add Your Code Here\n",
    "sns.countplot(x='Target Category', hue='Target Status', data=df);"
   ]
  },
  {
   "cell_type": "markdown",
   "metadata": {},
   "source": [
    "**Display countplot which gives information of how many political leaders has been targeted and how many of them has been died in sucide in each province **"
   ]
  },
  {
   "cell_type": "code",
   "execution_count": 23,
   "metadata": {},
   "outputs": [
    {
     "data": {
      "image/png": "[encoded data removed]",
      "text/plain": [
       "<Figure size 432x288 with 1 Axes>"
      ]
     },
     "metadata": {
      "needs_background": "light"
     },
     "output_type": "display_data"
    }
   ],
   "source": [
    "#Add Your Code Here\n",
    "sns.countplot(x='Province', hue='Target Category',  data=df);"
   ]
  },
  {
   "cell_type": "markdown",
   "metadata": {},
   "source": [
    "**Display countplot which gives information of how many political leaders has been killed or escaped (Target Status) in each space **"
   ]
  },
  {
   "cell_type": "code",
   "execution_count": 24,
   "metadata": {},
   "outputs": [
    {
     "data": {
      "image/png": "[encoded data removed]",
      "text/plain": [
       "<Figure size 432x288 with 1 Axes>"
      ]
     },
     "metadata": {
      "needs_background": "light"
     },
     "output_type": "display_data"
    }
   ],
   "source": [
    "#Add Your Code Here\n",
    "df.rename(columns={'Space (Open/Closed)': 'Space'}, inplace=True)\n",
    "sns.countplot(x='Space', hue='Target Status', data=df);"
   ]
  },
  {
   "cell_type": "markdown",
   "metadata": {},
   "source": [
    "**Display countplot which gives information of how many political leaders has been Target or sucide (Target Category) in each space **"
   ]
  },
  {
   "cell_type": "code",
   "execution_count": 25,
   "metadata": {},
   "outputs": [
    {
     "data": {
      "image/png": "[encoded data removed]",
      "text/plain": [
       "<Figure size 432x288 with 1 Axes>"
      ]
     },
     "metadata": {
      "needs_background": "light"
     },
     "output_type": "display_data"
    }
   ],
   "source": [
    "#Add Your Code Here\n",
    "sns.countplot(x='Space', hue='Target Category', data=df);"
   ]
  },
  {
   "cell_type": "markdown",
   "metadata": {},
   "source": [
    "**Most Vulnerable Party to Attack:**\n",
    "<br>**For this show the count plot against each Party and tell us which Party has been attacked most**"
   ]
  },
  {
   "cell_type": "code",
   "execution_count": 26,
   "metadata": {},
   "outputs": [
    {
     "data": {
      "image/png": "[encoded data removed]",
      "text/plain": [
       "<Figure size 1440x504 with 1 Axes>"
      ]
     },
     "metadata": {
      "needs_background": "light"
     },
     "output_type": "display_data"
    }
   ],
   "source": [
    "#Add Your Code Here\n",
    "plt.figure(figsize=(20,7))\n",
    "plt.xticks(rotation=60)\n",
    "sns.countplot(x='Party', hue='Target Category', data=df);"
   ]
  },
  {
   "cell_type": "markdown",
   "metadata": {},
   "source": [
    "Add Your Comment Here"
   ]
  },
  {
   "cell_type": "markdown",
   "metadata": {},
   "source": [
    "**Province wise analysis of attacks on Party **"
   ]
  },
  {
   "cell_type": "markdown",
   "metadata": {},
   "source": [
    "**Plot the number of attacks on each Party in each province using subplot, it must have 6 subgraphs**"
   ]
  },
  {
   "cell_type": "markdown",
   "metadata": {},
   "source": [
    "**Display which day is most vulnerable Day for Attack (variable : DayType)**"
   ]
  },
  {
   "cell_type": "code",
   "execution_count": 27,
   "metadata": {},
   "outputs": [],
   "source": [
    "df['Party'] = df['Party'].str.replace('Alll India Muslim League', 'All India Muslim League')"
   ]
  },
  {
   "cell_type": "code",
   "execution_count": 28,
   "metadata": {},
   "outputs": [
    {
     "data": {
      "text/plain": [
       "Suicide    27\n",
       "Target     24\n",
       "Name: Target Category, dtype: int64"
      ]
     },
     "execution_count": 28,
     "metadata": {},
     "output_type": "execute_result"
    }
   ],
   "source": [
    "df['Target Category'].value_counts()"
   ]
  },
  {
   "cell_type": "code",
   "execution_count": 29,
   "metadata": {},
   "outputs": [
    {
     "data": {
      "image/png": "[encoded data removed]",
      "text/plain": [
       "<Figure size 1080x1224 with 6 Axes>"
      ]
     },
     "metadata": {
      "needs_background": "light"
     },
     "output_type": "display_data"
    }
   ],
   "source": [
    "fig, ax=plt.subplots(3,2,sharey=True, figsize=(15,17))\n",
    "sns.countplot(x='Party', hue='Target Category', data=df_kpk, ax=ax[0,0]);\n",
    "ax[0,0].set_title('KPK')\n",
    "sns.countplot(x='Party', hue='Target Category', data=df_pun, ax=ax[0,1]);\n",
    "ax[0,1].set_title('Punjab')\n",
    "sns.countplot(x='Party', hue='Target Category', data=df_bal, ax=ax[1,0]);\n",
    "ax[1,0].set_title('Balochistan')\n",
    "sns.countplot(x='Party', hue='Target Category', data=df_sin, ax=ax[1,1]);\n",
    "ax[1,1].set_title('Sindh')\n",
    "sns.countplot(x='Party', hue='Target Category', data=df_fata, ax=ax[2,0]);\n",
    "ax[2,0].set_title('FATA')\n",
    "sns.countplot(x='Party', hue='Target Category', data=df_cap, ax=ax[2,1]);\n",
    "ax[2,1].set_title('Capital');\n"
   ]
  },
  {
   "cell_type": "code",
   "execution_count": 30,
   "metadata": {},
   "outputs": [
    {
     "data": {
      "text/html": [
       "<div>\n",
       "<style scoped>\n",
       "    .dataframe tbody tr th:only-of-type {\n",
       "        vertical-align: middle;\n",
       "    }\n",
       "\n",
       "    .dataframe tbody tr th {\n",
       "        vertical-align: top;\n",
       "    }\n",
       "\n",
       "    .dataframe thead th {\n",
       "        text-align: right;\n",
       "    }\n",
       "</style>\n",
       "<table border=\"1\" class=\"dataframe\">\n",
       "  <thead>\n",
       "    <tr style=\"text-align: right;\">\n",
       "      <th></th>\n",
       "      <th>S#</th>\n",
       "      <th>Politician</th>\n",
       "      <th>Day</th>\n",
       "      <th>Date</th>\n",
       "      <th>Day Type</th>\n",
       "      <th>Time</th>\n",
       "      <th>City</th>\n",
       "      <th>Location</th>\n",
       "      <th>Location Category</th>\n",
       "      <th>Province</th>\n",
       "      <th>Latitude</th>\n",
       "      <th>Longititude</th>\n",
       "      <th>Target Category</th>\n",
       "      <th>Space</th>\n",
       "      <th>Party</th>\n",
       "      <th>Target Status</th>\n",
       "      <th>Killed</th>\n",
       "      <th>Injured</th>\n",
       "    </tr>\n",
       "  </thead>\n",
       "  <tbody>\n",
       "    <tr>\n",
       "      <th>14</th>\n",
       "      <td>15</td>\n",
       "      <td>Benazir Bhutto</td>\n",
       "      <td>Thursday</td>\n",
       "      <td>18-Oct-07</td>\n",
       "      <td>Working Day</td>\n",
       "      <td>Mid Night</td>\n",
       "      <td>Karachi</td>\n",
       "      <td>PPP Rally</td>\n",
       "      <td>Road</td>\n",
       "      <td>Sindh</td>\n",
       "      <td>24.9918</td>\n",
       "      <td>66.9911</td>\n",
       "      <td>Suicide</td>\n",
       "      <td>Open</td>\n",
       "      <td>PPPP</td>\n",
       "      <td>Escaped</td>\n",
       "      <td>145</td>\n",
       "      <td>550</td>\n",
       "    </tr>\n",
       "  </tbody>\n",
       "</table>\n",
       "</div>"
      ],
      "text/plain": [
       "    S#      Politician       Day       Date     Day Type       Time     City  \\\n",
       "14  15  Benazir Bhutto  Thursday  18-Oct-07  Working Day  Mid Night  Karachi   \n",
       "\n",
       "     Location Location Category Province  Latitude  Longititude  \\\n",
       "14  PPP Rally              Road    Sindh   24.9918      66.9911   \n",
       "\n",
       "   Target Category Space Party Target Status  Killed  Injured  \n",
       "14         Suicide  Open  PPPP       Escaped     145      550  "
      ]
     },
     "execution_count": 30,
     "metadata": {},
     "output_type": "execute_result"
    }
   ],
   "source": [
    "#Add Your Code Here\n",
    "df[(df['Day Type'] == 'Working Day') & (df['Injured'] > 500)]"
   ]
  },
  {
   "cell_type": "markdown",
   "metadata": {},
   "source": [
    "**Find which day is most vulnerable Day for Attack (variable : Day)**"
   ]
  },
  {
   "cell_type": "code",
   "execution_count": 31,
   "metadata": {},
   "outputs": [
    {
     "data": {
      "text/html": [
       "<div>\n",
       "<style scoped>\n",
       "    .dataframe tbody tr th:only-of-type {\n",
       "        vertical-align: middle;\n",
       "    }\n",
       "\n",
       "    .dataframe tbody tr th {\n",
       "        vertical-align: top;\n",
       "    }\n",
       "\n",
       "    .dataframe thead th {\n",
       "        text-align: right;\n",
       "    }\n",
       "</style>\n",
       "<table border=\"1\" class=\"dataframe\">\n",
       "  <thead>\n",
       "    <tr style=\"text-align: right;\">\n",
       "      <th></th>\n",
       "      <th>S#</th>\n",
       "      <th>Politician</th>\n",
       "      <th>Day</th>\n",
       "      <th>Date</th>\n",
       "      <th>Day Type</th>\n",
       "      <th>Time</th>\n",
       "      <th>City</th>\n",
       "      <th>Location</th>\n",
       "      <th>Location Category</th>\n",
       "      <th>Province</th>\n",
       "      <th>Latitude</th>\n",
       "      <th>Longititude</th>\n",
       "      <th>Target Category</th>\n",
       "      <th>Space</th>\n",
       "      <th>Party</th>\n",
       "      <th>Target Status</th>\n",
       "      <th>Killed</th>\n",
       "      <th>Injured</th>\n",
       "    </tr>\n",
       "  </thead>\n",
       "  <tbody>\n",
       "    <tr>\n",
       "      <th>14</th>\n",
       "      <td>15</td>\n",
       "      <td>Benazir Bhutto</td>\n",
       "      <td>Thursday</td>\n",
       "      <td>18-Oct-07</td>\n",
       "      <td>Working Day</td>\n",
       "      <td>Mid Night</td>\n",
       "      <td>Karachi</td>\n",
       "      <td>PPP Rally</td>\n",
       "      <td>Road</td>\n",
       "      <td>Sindh</td>\n",
       "      <td>24.9918</td>\n",
       "      <td>66.9911</td>\n",
       "      <td>Suicide</td>\n",
       "      <td>Open</td>\n",
       "      <td>PPPP</td>\n",
       "      <td>Escaped</td>\n",
       "      <td>145</td>\n",
       "      <td>550</td>\n",
       "    </tr>\n",
       "  </tbody>\n",
       "</table>\n",
       "</div>"
      ],
      "text/plain": [
       "    S#      Politician       Day       Date     Day Type       Time     City  \\\n",
       "14  15  Benazir Bhutto  Thursday  18-Oct-07  Working Day  Mid Night  Karachi   \n",
       "\n",
       "     Location Location Category Province  Latitude  Longititude  \\\n",
       "14  PPP Rally              Road    Sindh   24.9918      66.9911   \n",
       "\n",
       "   Target Category Space Party Target Status  Killed  Injured  \n",
       "14         Suicide  Open  PPPP       Escaped     145      550  "
      ]
     },
     "execution_count": 31,
     "metadata": {},
     "output_type": "execute_result"
    }
   ],
   "source": [
    "#Add Your Code Here\n",
    "df[(df['Day'] == 'Thursday') & (df['Killed'] == 145) ]"
   ]
  },
  {
   "cell_type": "markdown",
   "metadata": {},
   "source": [
    "Write your comments here"
   ]
  },
  {
   "cell_type": "markdown",
   "metadata": {},
   "source": [
    "**Explore day wise each province (variable: Day)**"
   ]
  },
  {
   "cell_type": "code",
   "execution_count": 32,
   "metadata": {},
   "outputs": [
    {
     "data": {
      "text/plain": [
       "Day        Province   \n",
       "Friday     KPK            5\n",
       "           Balochistan    2\n",
       "           Punjab         2\n",
       "           Sindh          1\n",
       "Monday     KPK            4\n",
       "           FATA           2\n",
       "           Punjab         2\n",
       "           Balochistan    1\n",
       "           Capital        1\n",
       "Saturday   KPK            3\n",
       "           Sindh          3\n",
       "           FATA           1\n",
       "Sunday     KPK            1\n",
       "           Punjab         1\n",
       "Thursday   Punjab         2\n",
       "           Sindh          2\n",
       "           Balochistan    1\n",
       "           FATA           1\n",
       "           KPK            1\n",
       "Tuesday    KPK            4\n",
       "           Punjab         2\n",
       "           Balochistan    1\n",
       "           Capital        1\n",
       "Wednesday  Balochistan    2\n",
       "           Capital        1\n",
       "           FATA           1\n",
       "           KPK            1\n",
       "           Punjab         1\n",
       "           Sindh          1\n",
       "Name: Province, dtype: int64"
      ]
     },
     "execution_count": 32,
     "metadata": {},
     "output_type": "execute_result"
    }
   ],
   "source": [
    "#Add Your Code Here\n",
    "df.groupby('Day')['Province'].value_counts()\n"
   ]
  },
  {
   "cell_type": "markdown",
   "metadata": {},
   "source": [
    "**Find out which time of the day is most vulnerable Attack **"
   ]
  },
  {
   "cell_type": "code",
   "execution_count": 33,
   "metadata": {},
   "outputs": [
    {
     "data": {
      "text/html": [
       "<div>\n",
       "<style scoped>\n",
       "    .dataframe tbody tr th:only-of-type {\n",
       "        vertical-align: middle;\n",
       "    }\n",
       "\n",
       "    .dataframe tbody tr th {\n",
       "        vertical-align: top;\n",
       "    }\n",
       "\n",
       "    .dataframe thead th {\n",
       "        text-align: right;\n",
       "    }\n",
       "</style>\n",
       "<table border=\"1\" class=\"dataframe\">\n",
       "  <thead>\n",
       "    <tr style=\"text-align: right;\">\n",
       "      <th></th>\n",
       "      <th>S#</th>\n",
       "      <th>Politician</th>\n",
       "      <th>Day</th>\n",
       "      <th>Date</th>\n",
       "      <th>Day Type</th>\n",
       "      <th>Time</th>\n",
       "      <th>City</th>\n",
       "      <th>Location</th>\n",
       "      <th>Location Category</th>\n",
       "      <th>Province</th>\n",
       "      <th>Latitude</th>\n",
       "      <th>Longititude</th>\n",
       "      <th>Target Category</th>\n",
       "      <th>Space</th>\n",
       "      <th>Party</th>\n",
       "      <th>Target Status</th>\n",
       "      <th>Killed</th>\n",
       "      <th>Injured</th>\n",
       "    </tr>\n",
       "  </thead>\n",
       "  <tbody>\n",
       "    <tr>\n",
       "      <th>2</th>\n",
       "      <td>3</td>\n",
       "      <td>Hayyat Sherpao</td>\n",
       "      <td>Friday</td>\n",
       "      <td>8-Feb-85</td>\n",
       "      <td>Working Day</td>\n",
       "      <td>Evening</td>\n",
       "      <td>Peshawar</td>\n",
       "      <td>Campus of University of Peshawar</td>\n",
       "      <td>University</td>\n",
       "      <td>KPK</td>\n",
       "      <td>33.999533</td>\n",
       "      <td>71.425020</td>\n",
       "      <td>Target</td>\n",
       "      <td>Open</td>\n",
       "      <td>PPPP</td>\n",
       "      <td>Killed</td>\n",
       "      <td>1</td>\n",
       "      <td>0</td>\n",
       "    </tr>\n",
       "    <tr>\n",
       "      <th>15</th>\n",
       "      <td>16</td>\n",
       "      <td>Ahsan Iqbal</td>\n",
       "      <td>Friday</td>\n",
       "      <td>9-Nov-07</td>\n",
       "      <td>Holiday</td>\n",
       "      <td>Evening</td>\n",
       "      <td>Peshawar</td>\n",
       "      <td>Political Affairs meeting</td>\n",
       "      <td>Residence</td>\n",
       "      <td>KPK</td>\n",
       "      <td>34.004300</td>\n",
       "      <td>71.544800</td>\n",
       "      <td>Suicide</td>\n",
       "      <td>Closed</td>\n",
       "      <td>PMLN</td>\n",
       "      <td>Escaped</td>\n",
       "      <td>4</td>\n",
       "      <td>5</td>\n",
       "    </tr>\n",
       "    <tr>\n",
       "      <th>17</th>\n",
       "      <td>18</td>\n",
       "      <td>Miangul Asfandyar Amir Zeb</td>\n",
       "      <td>Friday</td>\n",
       "      <td>28-Dec-07</td>\n",
       "      <td>Working Day</td>\n",
       "      <td>After Noon</td>\n",
       "      <td>Swat</td>\n",
       "      <td>roadside bomb blast targeting his vehicle</td>\n",
       "      <td>Road</td>\n",
       "      <td>KPK</td>\n",
       "      <td>35.234672</td>\n",
       "      <td>71.885355</td>\n",
       "      <td>Target</td>\n",
       "      <td>Open</td>\n",
       "      <td>PMLN</td>\n",
       "      <td>Killed</td>\n",
       "      <td>1</td>\n",
       "      <td>0</td>\n",
       "    </tr>\n",
       "    <tr>\n",
       "      <th>45</th>\n",
       "      <td>46</td>\n",
       "      <td>Soran Singh</td>\n",
       "      <td>Friday</td>\n",
       "      <td>22-Apr-16</td>\n",
       "      <td>Working Day</td>\n",
       "      <td>After Noon</td>\n",
       "      <td>Buner</td>\n",
       "      <td>near his house</td>\n",
       "      <td>Residence</td>\n",
       "      <td>KPK</td>\n",
       "      <td>34.431949</td>\n",
       "      <td>72.205692</td>\n",
       "      <td>Target</td>\n",
       "      <td>Closed</td>\n",
       "      <td>Ministor of Miniroties</td>\n",
       "      <td>Killed</td>\n",
       "      <td>1</td>\n",
       "      <td>0</td>\n",
       "    </tr>\n",
       "    <tr>\n",
       "      <th>49</th>\n",
       "      <td>50</td>\n",
       "      <td>Akram Khan Durrani</td>\n",
       "      <td>Friday</td>\n",
       "      <td>13-Jul-18</td>\n",
       "      <td>Working Day</td>\n",
       "      <td>Morning</td>\n",
       "      <td>Bannu</td>\n",
       "      <td>Near Haved Police Station</td>\n",
       "      <td>Road</td>\n",
       "      <td>KPK</td>\n",
       "      <td>32.986100</td>\n",
       "      <td>70.604200</td>\n",
       "      <td>Target</td>\n",
       "      <td>Open</td>\n",
       "      <td>JUIF</td>\n",
       "      <td>Escaped</td>\n",
       "      <td>4</td>\n",
       "      <td>10</td>\n",
       "    </tr>\n",
       "  </tbody>\n",
       "</table>\n",
       "</div>"
      ],
      "text/plain": [
       "    S#                  Politician     Day       Date     Day Type  \\\n",
       "2    3              Hayyat Sherpao  Friday   8-Feb-85  Working Day   \n",
       "15  16                 Ahsan Iqbal  Friday   9-Nov-07      Holiday   \n",
       "17  18  Miangul Asfandyar Amir Zeb  Friday  28-Dec-07  Working Day   \n",
       "45  46                 Soran Singh  Friday  22-Apr-16  Working Day   \n",
       "49  50          Akram Khan Durrani  Friday  13-Jul-18  Working Day   \n",
       "\n",
       "          Time      City                                   Location  \\\n",
       "2      Evening  Peshawar           Campus of University of Peshawar   \n",
       "15     Evening  Peshawar                  Political Affairs meeting   \n",
       "17  After Noon      Swat  roadside bomb blast targeting his vehicle   \n",
       "45  After Noon     Buner                             near his house   \n",
       "49     Morning     Bannu                  Near Haved Police Station   \n",
       "\n",
       "   Location Category Province   Latitude  Longititude Target Category   Space  \\\n",
       "2         University      KPK  33.999533    71.425020          Target    Open   \n",
       "15         Residence      KPK  34.004300    71.544800         Suicide  Closed   \n",
       "17              Road      KPK  35.234672    71.885355          Target    Open   \n",
       "45         Residence      KPK  34.431949    72.205692          Target  Closed   \n",
       "49              Road      KPK  32.986100    70.604200          Target    Open   \n",
       "\n",
       "                     Party Target Status  Killed  Injured  \n",
       "2                     PPPP        Killed       1        0  \n",
       "15                    PMLN       Escaped       4        5  \n",
       "17                    PMLN        Killed       1        0  \n",
       "45  Ministor of Miniroties        Killed       1        0  \n",
       "49                    JUIF       Escaped       4       10  "
      ]
     },
     "execution_count": 33,
     "metadata": {},
     "output_type": "execute_result"
    }
   ],
   "source": [
    "#Add Your Code Here\n",
    "df[(df['Day'] == 'Friday') & (df['Province'] == 'KPK') ]\n"
   ]
  },
  {
   "cell_type": "markdown",
   "metadata": {},
   "source": [
    "**Explore time wise each province (variable: Day)**"
   ]
  },
  {
   "cell_type": "code",
   "execution_count": 34,
   "metadata": {},
   "outputs": [
    {
     "data": {
      "text/plain": [
       "Time        Province   \n",
       "After Noon  Balochistan     6\n",
       "            KPK             5\n",
       "            Sindh           3\n",
       "            Capital         2\n",
       "            FATA            2\n",
       "            Punjab          1\n",
       "Evening     KPK            11\n",
       "            Punjab          6\n",
       "            FATA            2\n",
       "            Sindh           2\n",
       "            Balochistan     1\n",
       "            Capital         1\n",
       "Mid Night   Sindh           1\n",
       "Morning     Punjab          2\n",
       "            FATA            1\n",
       "            KPK             1\n",
       "            Sindh           1\n",
       "Night       KPK             1\n",
       "            Punjab          1\n",
       "Noon        KPK             1\n",
       "Name: Province, dtype: int64"
      ]
     },
     "execution_count": 34,
     "metadata": {},
     "output_type": "execute_result"
    }
   ],
   "source": [
    "#Add Your Code Here\n",
    "df.groupby('Time')['Province'].value_counts()"
   ]
  },
  {
   "cell_type": "markdown",
   "metadata": {},
   "source": [
    "Write your comments here"
   ]
  },
  {
   "cell_type": "markdown",
   "metadata": {},
   "source": [
    "**Now From above result, seperate that time of data in another variable and display which day is most vulnerable **"
   ]
  },
  {
   "cell_type": "code",
   "execution_count": 35,
   "metadata": {},
   "outputs": [],
   "source": [
    "#Seperate here\n",
    "most_vul_day = df[(df['Time'] == 'Evening') & (df['Province'] == 'KPK') ]"
   ]
  },
  {
   "cell_type": "code",
   "execution_count": 36,
   "metadata": {},
   "outputs": [
    {
     "data": {
      "text/html": [
       "<div>\n",
       "<style scoped>\n",
       "    .dataframe tbody tr th:only-of-type {\n",
       "        vertical-align: middle;\n",
       "    }\n",
       "\n",
       "    .dataframe tbody tr th {\n",
       "        vertical-align: top;\n",
       "    }\n",
       "\n",
       "    .dataframe thead th {\n",
       "        text-align: right;\n",
       "    }\n",
       "</style>\n",
       "<table border=\"1\" class=\"dataframe\">\n",
       "  <thead>\n",
       "    <tr style=\"text-align: right;\">\n",
       "      <th></th>\n",
       "      <th>S#</th>\n",
       "      <th>Politician</th>\n",
       "      <th>Day</th>\n",
       "      <th>Date</th>\n",
       "      <th>Day Type</th>\n",
       "      <th>Time</th>\n",
       "      <th>City</th>\n",
       "      <th>Location</th>\n",
       "      <th>Location Category</th>\n",
       "      <th>Province</th>\n",
       "      <th>Latitude</th>\n",
       "      <th>Longititude</th>\n",
       "      <th>Target Category</th>\n",
       "      <th>Space</th>\n",
       "      <th>Party</th>\n",
       "      <th>Target Status</th>\n",
       "      <th>Killed</th>\n",
       "      <th>Injured</th>\n",
       "    </tr>\n",
       "  </thead>\n",
       "  <tbody>\n",
       "    <tr>\n",
       "      <th>11</th>\n",
       "      <td>12</td>\n",
       "      <td>Aftab Ahmad Khan Sherpao</td>\n",
       "      <td>Saturday</td>\n",
       "      <td>28-Apr-07</td>\n",
       "      <td>Working Day</td>\n",
       "      <td>Evening</td>\n",
       "      <td>Charsadda</td>\n",
       "      <td>Rally Charsadda</td>\n",
       "      <td>Park/Ground</td>\n",
       "      <td>KPK</td>\n",
       "      <td>34.1509</td>\n",
       "      <td>71.7359</td>\n",
       "      <td>Suicide</td>\n",
       "      <td>Open</td>\n",
       "      <td>ANP</td>\n",
       "      <td>Escaped</td>\n",
       "      <td>35</td>\n",
       "      <td>60</td>\n",
       "    </tr>\n",
       "  </tbody>\n",
       "</table>\n",
       "</div>"
      ],
      "text/plain": [
       "    S#                Politician       Day       Date     Day Type     Time  \\\n",
       "11  12  Aftab Ahmad Khan Sherpao  Saturday  28-Apr-07  Working Day  Evening   \n",
       "\n",
       "         City          Location Location Category Province  Latitude  \\\n",
       "11  Charsadda  Rally Charsadda        Park/Ground      KPK   34.1509   \n",
       "\n",
       "    Longititude Target Category Space Party Target Status  Killed  Injured  \n",
       "11      71.7359         Suicide  Open   ANP       Escaped      35       60  "
      ]
     },
     "execution_count": 36,
     "metadata": {},
     "output_type": "execute_result"
    }
   ],
   "source": [
    "#Show here\n",
    "most_vul_day[(most_vul_day['Day'] == 'Saturday') & (most_vul_day['Killed'] == 35)]"
   ]
  },
  {
   "cell_type": "markdown",
   "metadata": {},
   "source": [
    "**investigate at attacks on jummah prayer:**"
   ]
  },
  {
   "cell_type": "code",
   "execution_count": 40,
   "metadata": {},
   "outputs": [
    {
     "data": {
      "text/html": [
       "<div>\n",
       "<style scoped>\n",
       "    .dataframe tbody tr th:only-of-type {\n",
       "        vertical-align: middle;\n",
       "    }\n",
       "\n",
       "    .dataframe tbody tr th {\n",
       "        vertical-align: top;\n",
       "    }\n",
       "\n",
       "    .dataframe thead th {\n",
       "        text-align: right;\n",
       "    }\n",
       "</style>\n",
       "<table border=\"1\" class=\"dataframe\">\n",
       "  <thead>\n",
       "    <tr style=\"text-align: right;\">\n",
       "      <th></th>\n",
       "      <th>S#</th>\n",
       "      <th>Politician</th>\n",
       "      <th>Day</th>\n",
       "      <th>Date</th>\n",
       "      <th>Day Type</th>\n",
       "      <th>Time</th>\n",
       "      <th>City</th>\n",
       "      <th>Location</th>\n",
       "      <th>Location Category</th>\n",
       "      <th>Province</th>\n",
       "      <th>Latitude</th>\n",
       "      <th>Longititude</th>\n",
       "      <th>Target Category</th>\n",
       "      <th>Space</th>\n",
       "      <th>Party</th>\n",
       "      <th>Target Status</th>\n",
       "      <th>Killed</th>\n",
       "      <th>Injured</th>\n",
       "    </tr>\n",
       "  </thead>\n",
       "  <tbody>\n",
       "    <tr>\n",
       "      <th>17</th>\n",
       "      <td>18</td>\n",
       "      <td>Miangul Asfandyar Amir Zeb</td>\n",
       "      <td>Friday</td>\n",
       "      <td>28-Dec-07</td>\n",
       "      <td>Working Day</td>\n",
       "      <td>After Noon</td>\n",
       "      <td>Swat</td>\n",
       "      <td>roadside bomb blast targeting his vehicle</td>\n",
       "      <td>Road</td>\n",
       "      <td>KPK</td>\n",
       "      <td>35.234672</td>\n",
       "      <td>71.885355</td>\n",
       "      <td>Target</td>\n",
       "      <td>Open</td>\n",
       "      <td>PMLN</td>\n",
       "      <td>Killed</td>\n",
       "      <td>1</td>\n",
       "      <td>0</td>\n",
       "    </tr>\n",
       "    <tr>\n",
       "      <th>50</th>\n",
       "      <td>51</td>\n",
       "      <td>Siraj Raisani</td>\n",
       "      <td>Friday</td>\n",
       "      <td>13-Jul-18</td>\n",
       "      <td>Working Day</td>\n",
       "      <td>After Noon</td>\n",
       "      <td>Quetta</td>\n",
       "      <td>Attack on BAP's rally</td>\n",
       "      <td>Road</td>\n",
       "      <td>Balochistan</td>\n",
       "      <td>30.209500</td>\n",
       "      <td>67.018200</td>\n",
       "      <td>Suicide</td>\n",
       "      <td>Open</td>\n",
       "      <td>BAP</td>\n",
       "      <td>Killed</td>\n",
       "      <td>149</td>\n",
       "      <td>186</td>\n",
       "    </tr>\n",
       "  </tbody>\n",
       "</table>\n",
       "</div>"
      ],
      "text/plain": [
       "    S#                  Politician     Day       Date     Day Type  \\\n",
       "17  18  Miangul Asfandyar Amir Zeb  Friday  28-Dec-07  Working Day   \n",
       "50  51               Siraj Raisani  Friday  13-Jul-18  Working Day   \n",
       "\n",
       "          Time    City                                   Location  \\\n",
       "17  After Noon    Swat  roadside bomb blast targeting his vehicle   \n",
       "50  After Noon  Quetta                      Attack on BAP's rally   \n",
       "\n",
       "   Location Category     Province   Latitude  Longititude Target Category  \\\n",
       "17              Road          KPK  35.234672    71.885355          Target   \n",
       "50              Road  Balochistan  30.209500    67.018200         Suicide   \n",
       "\n",
       "   Space Party Target Status  Killed  Injured  \n",
       "17  Open  PMLN        Killed       1        0  \n",
       "50  Open   BAP        Killed     149      186  "
      ]
     },
     "execution_count": 40,
     "metadata": {},
     "output_type": "execute_result"
    }
   ],
   "source": [
    "#Add Your Code Here\n",
    "df[(df['Time'] == 'After Noon') & (df['Day'] == 'Friday') & (df['Location Category'] == 'Road')]"
   ]
  },
  {
   "cell_type": "markdown",
   "metadata": {},
   "source": [
    "Write Your Comments here"
   ]
  },
  {
   "cell_type": "markdown",
   "metadata": {},
   "source": [
    "**Display factor plot for Target Status vs Open/Close Space vs Target Type**"
   ]
  },
  {
   "cell_type": "code",
   "execution_count": 41,
   "metadata": {},
   "outputs": [
    {
     "name": "stderr",
     "output_type": "stream",
     "text": [
      "/Users/abdul/anaconda3/lib/python3.7/site-packages/seaborn/categorical.py:3666: UserWarning: The `factorplot` function has been renamed to `catplot`. The original name will be removed in a future release. Please update your code. Note that the default `kind` in `factorplot` (`'point'`) has changed `'strip'` in `catplot`.\n",
      "  warnings.warn(msg)\n",
      "/Users/abdul/anaconda3/lib/python3.7/site-packages/seaborn/categorical.py:3666: UserWarning: The `factorplot` function has been renamed to `catplot`. The original name will be removed in a future release. Please update your code. Note that the default `kind` in `factorplot` (`'point'`) has changed `'strip'` in `catplot`.\n",
      "  warnings.warn(msg)\n",
      "/Users/abdul/anaconda3/lib/python3.7/site-packages/seaborn/categorical.py:3666: UserWarning: The `factorplot` function has been renamed to `catplot`. The original name will be removed in a future release. Please update your code. Note that the default `kind` in `factorplot` (`'point'`) has changed `'strip'` in `catplot`.\n",
      "  warnings.warn(msg)\n"
     ]
    },
    {
     "data": {
      "text/plain": [
       "<seaborn.axisgrid.FacetGrid at 0x1a22a9ae10>"
      ]
     },
     "execution_count": 41,
     "metadata": {},
     "output_type": "execute_result"
    },
    {
     "data": {
      "image/png": "[encoded data removed]",
      "text/plain": [
       "<Figure size 360x360 with 1 Axes>"
      ]
     },
     "metadata": {
      "needs_background": "light"
     },
     "output_type": "display_data"
    },
    {
     "data": {
      "image/png": "[encoded data removed]",
      "text/plain": [
       "<Figure size 360x360 with 1 Axes>"
      ]
     },
     "metadata": {
      "needs_background": "light"
     },
     "output_type": "display_data"
    },
    {
     "data": {
      "image/png": "[encoded data removed]",
      "text/plain": [
       "<Figure size 360x360 with 1 Axes>"
      ]
     },
     "metadata": {
      "needs_background": "light"
     },
     "output_type": "display_data"
    }
   ],
   "source": [
    "#Add Your Code Here\n",
    "\n",
    "#sns.factorplot(x='Target Status', data=df, kind='count', col='Space', hue='Target Category')\n",
    "sns.factorplot(x='Target Status', data=df, kind='count')\n",
    "sns.factorplot(x='Space', data=df, kind='count')\n",
    "sns.factorplot(x='Target Category', data=df, kind='count')"
   ]
  },
  {
   "cell_type": "markdown",
   "metadata": {},
   "source": [
    "**Year wise Analysis**"
   ]
  },
  {
   "cell_type": "code",
   "execution_count": 42,
   "metadata": {},
   "outputs": [
    {
     "name": "stderr",
     "output_type": "stream",
     "text": [
      "/Users/abdul/anaconda3/lib/python3.7/site-packages/pandas/core/indexes/datetimes.py:962: PerformanceWarning: Non-vectorized DateOffset being applied to Series or DatetimeIndex\n",
      "  \"or DatetimeIndex\", PerformanceWarning)\n"
     ]
    }
   ],
   "source": [
    "from pandas.tseries.offsets import *\n",
    "df['Date'] = pd.to_datetime(df['Date'])\n",
    "df['Date'] = df['Date'].mask(df['Date'].dt.year == 2051,df['Date'] + DateOffset(year=1951))\n",
    "df['Date'] = df['Date'].mask(df['Date'].dt.year == 2058,df['Date'] + DateOffset(year=1958))"
   ]
  },
  {
   "cell_type": "code",
   "execution_count": 43,
   "metadata": {},
   "outputs": [],
   "source": [
    "df['Year'] = pd.DatetimeIndex(df['Date']).year"
   ]
  },
  {
   "cell_type": "markdown",
   "metadata": {},
   "source": [
    "**Display count plot on Year column**"
   ]
  },
  {
   "cell_type": "code",
   "execution_count": 44,
   "metadata": {
    "scrolled": true
   },
   "outputs": [
    {
     "data": {
      "text/plain": [
       "<matplotlib.axes._subplots.AxesSubplot at 0x1a227a5e10>"
      ]
     },
     "execution_count": 44,
     "metadata": {},
     "output_type": "execute_result"
    },
    {
     "data": {
      "image/png": "[encoded data removed]",
      "text/plain": [
       "<Figure size 1296x432 with 1 Axes>"
      ]
     },
     "metadata": {
      "needs_background": "light"
     },
     "output_type": "display_data"
    }
   ],
   "source": [
    "#Add Your Code Here\n",
    "plt.figure(figsize=(18,6))\n",
    "sns.countplot(x='Year', data=df)"
   ]
  },
  {
   "cell_type": "markdown",
   "metadata": {},
   "source": [
    "**Feature Engineering:**"
   ]
  },
  {
   "cell_type": "markdown",
   "metadata": {},
   "source": [
    "**Introduce a new variable Victims to analyse the severity of attack which will be the sum of column killed and column injured.**"
   ]
  },
  {
   "cell_type": "code",
   "execution_count": 45,
   "metadata": {},
   "outputs": [
    {
     "ename": "NameError",
     "evalue": "name 'Victims' is not defined",
     "output_type": "error",
     "traceback": [
      "\u001b[0;31m---------------------------------------------------------------------------\u001b[0m",
      "\u001b[0;31mNameError\u001b[0m                                 Traceback (most recent call last)",
      "\u001b[0;32m<ipython-input-45-c9a6721bc7d1>\u001b[0m in \u001b[0;36m<module>\u001b[0;34m()\u001b[0m\n\u001b[1;32m      2\u001b[0m \u001b[0;31m#df.groupby(['Killed', 'Injured']).sum()\u001b[0m\u001b[0;34m\u001b[0m\u001b[0;34m\u001b[0m\u001b[0m\n\u001b[1;32m      3\u001b[0m \u001b[0mdf\u001b[0m\u001b[0;34m[\u001b[0m\u001b[0;34m'Victims'\u001b[0m\u001b[0;34m]\u001b[0m \u001b[0;34m=\u001b[0m \u001b[0mdf\u001b[0m\u001b[0;34m[\u001b[0m\u001b[0;34m'Killed'\u001b[0m\u001b[0;34m]\u001b[0m \u001b[0;34m+\u001b[0m \u001b[0mdf\u001b[0m\u001b[0;34m[\u001b[0m\u001b[0;34m'Injured'\u001b[0m\u001b[0;34m]\u001b[0m\u001b[0;34m\u001b[0m\u001b[0m\n\u001b[0;32m----> 4\u001b[0;31m \u001b[0mVictims\u001b[0m\u001b[0;34m\u001b[0m\u001b[0m\n\u001b[0m",
      "\u001b[0;31mNameError\u001b[0m: name 'Victims' is not defined"
     ]
    }
   ],
   "source": [
    "#Add Your Code Here\n",
    "#df.groupby(['Killed', 'Injured']).sum()\n",
    "df['Victims'] = df['Killed'] + df['Injured']\n",
    "Victims"
   ]
  },
  {
   "cell_type": "markdown",
   "metadata": {},
   "source": [
    "**Introduce a new variable Severity to analyse the severity of attack which is defined as follow** <br>\n",
    "**if victims == 0 -> Severity = No Casuality/Injury** <br>\n",
    "**if victims > 0 and victims <=10 -> Severity = Low** <br>\n",
    "**if victims > 10 and victims <= 50  -> Severity = Moderate** <br>\n",
    "**if victims > 50 and victims <= 100 -> Severity = High** <br>\n",
    "**if victims > 100 -> Severity = Tragic** <br>"
   ]
  },
  {
   "cell_type": "code",
   "execution_count": 64,
   "metadata": {},
   "outputs": [],
   "source": [
    "#Add Your Code Here\n",
    "df['Severity'] = ''\n",
    "def Severity(x):\n",
    "    if(x == 0):\n",
    "        return 'No cauality/Injured'\n",
    "    elif(x > 0 and x <= 10):\n",
    "        return'Low'\n",
    "    elif(x > 10 and x <= 50):\n",
    "        return'Moderate'\n",
    "    elif(x > 50 and x <= 100):\n",
    "        return 'High'\n",
    "    elif(x > 100 ):\n",
    "        return 'Tragic'"
   ]
  },
  {
   "cell_type": "code",
   "execution_count": 65,
   "metadata": {},
   "outputs": [],
   "source": [
    "df['Severity'] = df['Victims'].apply(Severity)\n"
   ]
  },
  {
   "cell_type": "markdown",
   "metadata": {},
   "source": [
    "**Verify new columns has been added into dataframe by calling head function**"
   ]
  },
  {
   "cell_type": "code",
   "execution_count": 68,
   "metadata": {},
   "outputs": [
    {
     "data": {
      "text/html": [
       "<div>\n",
       "<style scoped>\n",
       "    .dataframe tbody tr th:only-of-type {\n",
       "        vertical-align: middle;\n",
       "    }\n",
       "\n",
       "    .dataframe tbody tr th {\n",
       "        vertical-align: top;\n",
       "    }\n",
       "\n",
       "    .dataframe thead th {\n",
       "        text-align: right;\n",
       "    }\n",
       "</style>\n",
       "<table border=\"1\" class=\"dataframe\">\n",
       "  <thead>\n",
       "    <tr style=\"text-align: right;\">\n",
       "      <th></th>\n",
       "      <th>S#</th>\n",
       "      <th>Politician</th>\n",
       "      <th>Day</th>\n",
       "      <th>Date</th>\n",
       "      <th>Day Type</th>\n",
       "      <th>Time</th>\n",
       "      <th>City</th>\n",
       "      <th>Location</th>\n",
       "      <th>Location Category</th>\n",
       "      <th>Province</th>\n",
       "      <th>...</th>\n",
       "      <th>Longititude</th>\n",
       "      <th>Target Category</th>\n",
       "      <th>Space</th>\n",
       "      <th>Party</th>\n",
       "      <th>Target Status</th>\n",
       "      <th>Killed</th>\n",
       "      <th>Injured</th>\n",
       "      <th>Year</th>\n",
       "      <th>Victims</th>\n",
       "      <th>Severity</th>\n",
       "    </tr>\n",
       "  </thead>\n",
       "  <tbody>\n",
       "    <tr>\n",
       "      <th>0</th>\n",
       "      <td>1</td>\n",
       "      <td>Liaqat Ali Khan</td>\n",
       "      <td>Tuesday</td>\n",
       "      <td>1951-10-16</td>\n",
       "      <td>Working Day</td>\n",
       "      <td>Evening</td>\n",
       "      <td>Rawalpindi</td>\n",
       "      <td>Company Bagh (Company Gardens), Rawalpindi</td>\n",
       "      <td>Park/Ground</td>\n",
       "      <td>Punjab</td>\n",
       "      <td>...</td>\n",
       "      <td>73.043700</td>\n",
       "      <td>Target</td>\n",
       "      <td>Open</td>\n",
       "      <td>All India Muslim League</td>\n",
       "      <td>Killed</td>\n",
       "      <td>1</td>\n",
       "      <td>1</td>\n",
       "      <td>1951</td>\n",
       "      <td>2</td>\n",
       "      <td>Low</td>\n",
       "    </tr>\n",
       "    <tr>\n",
       "      <th>1</th>\n",
       "      <td>2</td>\n",
       "      <td>Khan abdul Jabbar Khan</td>\n",
       "      <td>Friday</td>\n",
       "      <td>1958-05-09</td>\n",
       "      <td>Working Day</td>\n",
       "      <td>Morning</td>\n",
       "      <td>Lahore</td>\n",
       "      <td>Sadullah Khan's house at 16 Aikman Road, GOR</td>\n",
       "      <td>Residence</td>\n",
       "      <td>Punjab</td>\n",
       "      <td>...</td>\n",
       "      <td>74.071272</td>\n",
       "      <td>Target</td>\n",
       "      <td>Open</td>\n",
       "      <td>Chief Minister of West Pakistan</td>\n",
       "      <td>Killed</td>\n",
       "      <td>1</td>\n",
       "      <td>0</td>\n",
       "      <td>1958</td>\n",
       "      <td>1</td>\n",
       "      <td>Low</td>\n",
       "    </tr>\n",
       "    <tr>\n",
       "      <th>2</th>\n",
       "      <td>3</td>\n",
       "      <td>Hayyat Sherpao</td>\n",
       "      <td>Friday</td>\n",
       "      <td>1985-02-08</td>\n",
       "      <td>Working Day</td>\n",
       "      <td>Evening</td>\n",
       "      <td>Peshawar</td>\n",
       "      <td>Campus of University of Peshawar</td>\n",
       "      <td>University</td>\n",
       "      <td>KPK</td>\n",
       "      <td>...</td>\n",
       "      <td>71.425020</td>\n",
       "      <td>Target</td>\n",
       "      <td>Open</td>\n",
       "      <td>PPPP</td>\n",
       "      <td>Killed</td>\n",
       "      <td>1</td>\n",
       "      <td>0</td>\n",
       "      <td>1985</td>\n",
       "      <td>1</td>\n",
       "      <td>Low</td>\n",
       "    </tr>\n",
       "    <tr>\n",
       "      <th>3</th>\n",
       "      <td>4</td>\n",
       "      <td>Najeeb Ahmed</td>\n",
       "      <td>Friday</td>\n",
       "      <td>1990-04-06</td>\n",
       "      <td>Working Day</td>\n",
       "      <td>After Noon</td>\n",
       "      <td>Karachi</td>\n",
       "      <td>North Nazimabad</td>\n",
       "      <td>Residence</td>\n",
       "      <td>Sindh</td>\n",
       "      <td>...</td>\n",
       "      <td>66.991100</td>\n",
       "      <td>Target</td>\n",
       "      <td>Closed</td>\n",
       "      <td>Student wing of PPP</td>\n",
       "      <td>Killed</td>\n",
       "      <td>1</td>\n",
       "      <td>0</td>\n",
       "      <td>1990</td>\n",
       "      <td>1</td>\n",
       "      <td>Low</td>\n",
       "    </tr>\n",
       "    <tr>\n",
       "      <th>4</th>\n",
       "      <td>5</td>\n",
       "      <td>Azeem Ahmed Tariq</td>\n",
       "      <td>Saturday</td>\n",
       "      <td>1993-05-01</td>\n",
       "      <td>Working Day</td>\n",
       "      <td>Morning</td>\n",
       "      <td>Karachi</td>\n",
       "      <td>near his house</td>\n",
       "      <td>Residence</td>\n",
       "      <td>Sindh</td>\n",
       "      <td>...</td>\n",
       "      <td>66.991100</td>\n",
       "      <td>Target</td>\n",
       "      <td>Closed</td>\n",
       "      <td>MQM</td>\n",
       "      <td>Killed</td>\n",
       "      <td>1</td>\n",
       "      <td>0</td>\n",
       "      <td>1993</td>\n",
       "      <td>1</td>\n",
       "      <td>Low</td>\n",
       "    </tr>\n",
       "  </tbody>\n",
       "</table>\n",
       "<p>5 rows × 21 columns</p>\n",
       "</div>"
      ],
      "text/plain": [
       "   S#              Politician       Day       Date     Day Type        Time  \\\n",
       "0   1         Liaqat Ali Khan   Tuesday 1951-10-16  Working Day     Evening   \n",
       "1   2  Khan abdul Jabbar Khan    Friday 1958-05-09  Working Day     Morning   \n",
       "2   3          Hayyat Sherpao    Friday 1985-02-08  Working Day     Evening   \n",
       "3   4            Najeeb Ahmed    Friday 1990-04-06  Working Day  After Noon   \n",
       "4   5       Azeem Ahmed Tariq  Saturday 1993-05-01  Working Day     Morning   \n",
       "\n",
       "         City                                       Location  \\\n",
       "0  Rawalpindi     Company Bagh (Company Gardens), Rawalpindi   \n",
       "1      Lahore   Sadullah Khan's house at 16 Aikman Road, GOR   \n",
       "2    Peshawar               Campus of University of Peshawar   \n",
       "3     Karachi                                North Nazimabad   \n",
       "4     Karachi                                 near his house   \n",
       "\n",
       "  Location Category Province    ...     Longititude  Target Category   Space  \\\n",
       "0       Park/Ground   Punjab    ...       73.043700           Target    Open   \n",
       "1         Residence   Punjab    ...       74.071272           Target    Open   \n",
       "2        University      KPK    ...       71.425020           Target    Open   \n",
       "3         Residence    Sindh    ...       66.991100           Target  Closed   \n",
       "4         Residence    Sindh    ...       66.991100           Target  Closed   \n",
       "\n",
       "                             Party Target Status Killed  Injured  Year  \\\n",
       "0          All India Muslim League        Killed      1        1  1951   \n",
       "1  Chief Minister of West Pakistan        Killed      1        0  1958   \n",
       "2                             PPPP        Killed      1        0  1985   \n",
       "3              Student wing of PPP        Killed      1        0  1990   \n",
       "4                              MQM        Killed      1        0  1993   \n",
       "\n",
       "   Victims  Severity  \n",
       "0        2       Low  \n",
       "1        1       Low  \n",
       "2        1       Low  \n",
       "3        1       Low  \n",
       "4        1       Low  \n",
       "\n",
       "[5 rows x 21 columns]"
      ]
     },
     "execution_count": 68,
     "metadata": {},
     "output_type": "execute_result"
    }
   ],
   "source": [
    "df.head()"
   ]
  },
  {
   "cell_type": "markdown",
   "metadata": {},
   "source": [
    "**Display a count plot of attacks against Severity provincewise:**"
   ]
  },
  {
   "cell_type": "code",
   "execution_count": 73,
   "metadata": {},
   "outputs": [
    {
     "data": {
      "image/png": "[encoded data removed]",
      "text/plain": [
       "<Figure size 432x288 with 1 Axes>"
      ]
     },
     "metadata": {
      "needs_background": "light"
     },
     "output_type": "display_data"
    }
   ],
   "source": [
    "#Add Your Code Here\n",
    "plt.xticks(rotation=45)\n",
    "sns.countplot(x='Severity', hue='Province', data=df);"
   ]
  },
  {
   "cell_type": "markdown",
   "metadata": {},
   "source": [
    "**Display Victims attacks on years**"
   ]
  },
  {
   "cell_type": "code",
   "execution_count": 91,
   "metadata": {},
   "outputs": [
    {
     "data": {
      "image/png": "[encoded data removed]",
      "text/plain": [
       "<Figure size 432x288 with 1 Axes>"
      ]
     },
     "metadata": {
      "needs_background": "light"
     },
     "output_type": "display_data"
    }
   ],
   "source": [
    "#Add Your Code Here\n",
    "plt.xticks(rotation=90)\n",
    "sns.countplot(x='Victims', hue='Year', data=df);"
   ]
  },
  {
   "cell_type": "markdown",
   "metadata": {},
   "source": [
    "**Display Distribution of Victims**"
   ]
  },
  {
   "cell_type": "code",
   "execution_count": 83,
   "metadata": {},
   "outputs": [
    {
     "name": "stderr",
     "output_type": "stream",
     "text": [
      "/Users/abdul/anaconda3/lib/python3.7/site-packages/scipy/stats/stats.py:1713: FutureWarning: Using a non-tuple sequence for multidimensional indexing is deprecated; use `arr[tuple(seq)]` instead of `arr[seq]`. In the future this will be interpreted as an array index, `arr[np.array(seq)]`, which will result either in an error or a different result.\n",
      "  return np.add.reduce(sorted[indexer] * weights, axis=axis) / sumval\n"
     ]
    },
    {
     "data": {
      "image/png": "[encoded data removed]",
      "text/plain": [
       "<Figure size 432x288 with 1 Axes>"
      ]
     },
     "metadata": {
      "needs_background": "light"
     },
     "output_type": "display_data"
    }
   ],
   "source": [
    "#Add Your Code Here\n",
    "sns.distplot(df['Victims'], kde=True);"
   ]
  },
  {
   "cell_type": "markdown",
   "metadata": {},
   "source": [
    "**Show kde plot when target was killed and when target was escaped**"
   ]
  },
  {
   "cell_type": "code",
   "execution_count": 97,
   "metadata": {},
   "outputs": [
    {
     "name": "stderr",
     "output_type": "stream",
     "text": [
      "/Users/abdul/anaconda3/lib/python3.7/site-packages/scipy/stats/stats.py:1713: FutureWarning: Using a non-tuple sequence for multidimensional indexing is deprecated; use `arr[tuple(seq)]` instead of `arr[seq]`. In the future this will be interpreted as an array index, `arr[np.array(seq)]`, which will result either in an error or a different result.\n",
      "  return np.add.reduce(sorted[indexer] * weights, axis=axis) / sumval\n"
     ]
    },
    {
     "data": {
      "image/png": "[encoded data removed]",
      "text/plain": [
       "<Figure size 432x288 with 1 Axes>"
      ]
     },
     "metadata": {
      "needs_background": "light"
     },
     "output_type": "display_data"
    }
   ],
   "source": [
    "#Add Your Code Here\n",
    "sns.kdeplot(df['Target Status'] == 'Killed', shade=True, label='Killed');\n",
    "sns.kdeplot(df['Target Status'] == 'Escaped', shade=True, label='Escaped');"
   ]
  },
  {
   "cell_type": "markdown",
   "metadata": {},
   "source": [
    "## Categorical to Quantitative Relationship"
   ]
  },
  {
   "cell_type": "markdown",
   "metadata": {},
   "source": [
    "**Display Victims distribution per province using swarmplot**"
   ]
  },
  {
   "cell_type": "code",
   "execution_count": 101,
   "metadata": {},
   "outputs": [
    {
     "data": {
      "image/png": "[encoded data removed]",
      "text/plain": [
       "<Figure size 432x288 with 1 Axes>"
      ]
     },
     "metadata": {
      "needs_background": "light"
     },
     "output_type": "display_data"
    }
   ],
   "source": [
    "#Add Your Code Here\n",
    "sns.swarmplot(x=\"Province\", y=\"Victims\", data=df);"
   ]
  },
  {
   "cell_type": "markdown",
   "metadata": {},
   "source": [
    "**Show Victims distribution per Day using boxplot**"
   ]
  },
  {
   "cell_type": "code",
   "execution_count": 103,
   "metadata": {},
   "outputs": [
    {
     "data": {
      "image/png": "[encoded data removed]",
      "text/plain": [
       "<Figure size 432x288 with 1 Axes>"
      ]
     },
     "metadata": {
      "needs_background": "light"
     },
     "output_type": "display_data"
    }
   ],
   "source": [
    "#Add Your Code Here\n",
    "sns.boxplot(x='Day', y='Victims', data=df);"
   ]
  },
  {
   "cell_type": "markdown",
   "metadata": {},
   "source": [
    "**Show Victims distribution per Day Type using boxplot**"
   ]
  },
  {
   "cell_type": "code",
   "execution_count": 105,
   "metadata": {},
   "outputs": [
    {
     "data": {
      "image/png": "[encoded data removed]",
      "text/plain": [
       "<Figure size 432x288 with 1 Axes>"
      ]
     },
     "metadata": {
      "needs_background": "light"
     },
     "output_type": "display_data"
    }
   ],
   "source": [
    "#Add Your Code Here\n",
    "sns.boxplot(x='Day Type', y='Victims', data=df);"
   ]
  },
  {
   "cell_type": "markdown",
   "metadata": {},
   "source": [
    "**Show relationship b/w Victims and Target Success using FacetGrid**"
   ]
  },
  {
   "cell_type": "code",
   "execution_count": 111,
   "metadata": {},
   "outputs": [],
   "source": [
    "#Add Your Code Here\n",
    "df['Target Success'] = df['Target Status'] == 'Killed'"
   ]
  },
  {
   "cell_type": "code",
   "execution_count": 121,
   "metadata": {},
   "outputs": [
    {
     "data": {
      "image/png": "[encoded data removed]",
      "text/plain": [
       "<Figure size 432x216 with 2 Axes>"
      ]
     },
     "metadata": {
      "needs_background": "light"
     },
     "output_type": "display_data"
    }
   ],
   "source": [
    "sns.FacetGrid(df, col=\"Target Success\", hue=\"Victims\");"
   ]
  },
  {
   "cell_type": "code",
   "execution_count": null,
   "metadata": {},
   "outputs": [],
   "source": []
  }
 ],
 "metadata": {
  "kernelspec": {
   "display_name": "Python 3",
   "language": "python",
   "name": "python3"
  },
  "language_info": {
   "codemirror_mode": {
    "name": "ipython",
    "version": 3
   },
   "file_extension": ".py",
   "mimetype": "text/x-python",
   "name": "python",
   "nbconvert_exporter": "python",
   "pygments_lexer": "ipython3",
   "version": "3.7.0"
  }
 },
 "nbformat": 4,
 "nbformat_minor": 2
}
